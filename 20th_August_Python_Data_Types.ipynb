{
 "cells": [
  {
   "cell_type": "markdown",
   "id": "0120752c-882b-4fdf-a797-71e4c924b8f6",
   "metadata": {},
   "source": [
    "1. Write a program to reverse a string."
   ]
  },
  {
   "cell_type": "code",
   "execution_count": 1,
   "id": "061edc89-2614-42d8-8b7a-eaeec4a96842",
   "metadata": {},
   "outputs": [
    {
     "name": "stdout",
     "output_type": "stream",
     "text": [
      "ramuKiaS\n"
     ]
    }
   ],
   "source": [
    "str1 = \"SaiKumar\"\n",
    "rev_str1 = str1[::-1]\n",
    "print(rev_str1)"
   ]
  },
  {
   "cell_type": "markdown",
   "id": "ef8dd2f7-fb7d-4ce1-a787-637b49f72771",
   "metadata": {},
   "source": [
    "2. Check if a string is a palindrome."
   ]
  },
  {
   "cell_type": "code",
   "execution_count": 5,
   "id": "150054b3-6842-4d12-927e-1935b35fb9a6",
   "metadata": {},
   "outputs": [
    {
     "name": "stdout",
     "output_type": "stream",
     "text": [
      "Given String is a Palindrome\n"
     ]
    }
   ],
   "source": [
    "str2 = \"Radar\"\n",
    "if str2.lower() == str2[::-1].lower():\n",
    "    print(\"Given String is a Palindrome\")\n",
    "else:\n",
    "    print(\"Given String is not a Palindrome\")"
   ]
  },
  {
   "cell_type": "markdown",
   "id": "edf37175-b768-48dd-a675-620313e1623e",
   "metadata": {},
   "source": [
    "3. Convert a string to uppercase."
   ]
  },
  {
   "cell_type": "code",
   "execution_count": 6,
   "id": "408b694d-8cb5-4358-9945-1b4fbca13cc9",
   "metadata": {},
   "outputs": [
    {
     "name": "stdout",
     "output_type": "stream",
     "text": [
      "SAIKUMAR\n"
     ]
    }
   ],
   "source": [
    "str3 = \"saikumar\"\n",
    "print(str3.upper())"
   ]
  },
  {
   "cell_type": "markdown",
   "id": "b8525d43-2107-4645-8b4d-a57c6b571b7b",
   "metadata": {},
   "source": [
    "4. Convert a string to lowercase."
   ]
  },
  {
   "cell_type": "code",
   "execution_count": 7,
   "id": "4299d88e-bce1-49dd-a96b-7fdca5aa03b8",
   "metadata": {},
   "outputs": [
    {
     "name": "stdout",
     "output_type": "stream",
     "text": [
      "saikumar\n"
     ]
    }
   ],
   "source": [
    "str4 =\"SAIKUMAR\"\n",
    "print(str4.lower())"
   ]
  },
  {
   "cell_type": "markdown",
   "id": "b8c7c2a1-c2c5-4c13-b908-b6163becb7ef",
   "metadata": {},
   "source": [
    "5. Count the number of vowels in a string."
   ]
  },
  {
   "cell_type": "code",
   "execution_count": 11,
   "id": "709ac960-e8f5-4e8b-9686-883f53270784",
   "metadata": {},
   "outputs": [
    {
     "name": "stdout",
     "output_type": "stream",
     "text": [
      "4\n"
     ]
    }
   ],
   "source": [
    "str5 = \"SaiKumar\"\n",
    "str5 = str5.lower()\n",
    "v1,v2,v3,v4,v5 = 'a','e','i','o','u'\n",
    "Num_Vowels = str5.count(v1) + str5.count(v2) + str5.count(v3) + str5.count(v4) + str5.count(v5)\n",
    "print(Num_Vowels)"
   ]
  },
  {
   "cell_type": "markdown",
   "id": "99a981cf-a61f-40f8-bb39-743435e4e0be",
   "metadata": {},
   "source": [
    "6. Count the number of consonants in a string."
   ]
  },
  {
   "cell_type": "code",
   "execution_count": 16,
   "id": "bd22a595-575d-4a96-b333-67bc78beff28",
   "metadata": {},
   "outputs": [
    {
     "name": "stdout",
     "output_type": "stream",
     "text": [
      "4\n"
     ]
    }
   ],
   "source": [
    "str6 = \"SaiKumar\"\n",
    "str6 = str5.lower()\n",
    "v1,v2,v3,v4,v5 = 'a','e','i','o','u'\n",
    "Num_Vowels = str6.count(v1) + str6.count(v2) + str6.count(v3) + str6.count(v4) + str6.count(v5)\n",
    "print(len(str6) - Num_Vowels)"
   ]
  },
  {
   "cell_type": "markdown",
   "id": "70f11299-fa11-4659-9c83-5439f3bf2c35",
   "metadata": {},
   "source": [
    "7. Remove all whitespaces from a string."
   ]
  },
  {
   "cell_type": "code",
   "execution_count": 27,
   "id": "cf624764-c28b-48fa-890a-ed928f6b579c",
   "metadata": {},
   "outputs": [
    {
     "name": "stdout",
     "output_type": "stream",
     "text": [
      "saikumar\n"
     ]
    }
   ],
   "source": [
    "str7 = \"  s ai ku ma r  \"\n",
    "print(str7.replace(\" \",\"\"))"
   ]
  },
  {
   "cell_type": "markdown",
   "id": "6348b67a-f005-4f41-9d04-ae9ccd37a7a2",
   "metadata": {},
   "source": [
    "8. Find the length of a string without using the `len()` function."
   ]
  },
  {
   "cell_type": "code",
   "execution_count": 28,
   "id": "c06415f3-d784-4fee-ba68-127c01a8c7ae",
   "metadata": {},
   "outputs": [
    {
     "name": "stdout",
     "output_type": "stream",
     "text": [
      "8\n"
     ]
    }
   ],
   "source": [
    "str8 = \"saikumar\"\n",
    "print(len(str8))"
   ]
  },
  {
   "cell_type": "markdown",
   "id": "fd951b64-ae18-4d6b-a4f9-a278bb6ade74",
   "metadata": {},
   "source": [
    "9. Check if a string contains a specific word."
   ]
  },
  {
   "cell_type": "code",
   "execution_count": 12,
   "id": "75442041-b360-4f2d-beb3-a5dfa26cace8",
   "metadata": {},
   "outputs": [
    {
     "data": {
      "text/plain": [
       "2"
      ]
     },
     "execution_count": 12,
     "metadata": {},
     "output_type": "execute_result"
    }
   ],
   "source": [
    "str9 = \"SaiKumar\"\n",
    "str9.find('i')"
   ]
  },
  {
   "cell_type": "markdown",
   "id": "1b8e8ecc-d11a-48d9-b1b0-8b8fb8aba0d3",
   "metadata": {},
   "source": [
    "10. Replace a word in a string with another word."
   ]
  },
  {
   "cell_type": "code",
   "execution_count": 5,
   "id": "8673cd1a-07c0-46dd-bb78-1551214aed8e",
   "metadata": {},
   "outputs": [
    {
     "name": "stdout",
     "output_type": "stream",
     "text": [
      "['W', 'a', 'i', 'K', 'u', 'm', 'a', 'r']\n"
     ]
    }
   ],
   "source": [
    "str10 = \"SaiKumar\"\n",
    "rep_str = list(str10)\n",
    "rep_str[0] = 'W'\n",
    "print(rep_str)"
   ]
  },
  {
   "cell_type": "markdown",
   "id": "9f63f584-e179-4370-8f39-9dbb55366222",
   "metadata": {},
   "source": [
    "11. Count the occurrences of a word in a string."
   ]
  },
  {
   "cell_type": "code",
   "execution_count": 14,
   "id": "e7f73f5a-0754-43b8-812c-fe6eef443699",
   "metadata": {},
   "outputs": [
    {
     "name": "stdout",
     "output_type": "stream",
     "text": [
      "1\n"
     ]
    }
   ],
   "source": [
    "str11 = \"I am Working\"\n",
    "str11 = str11.lower()\n",
    "print(str11.count(\"working\"))"
   ]
  },
  {
   "cell_type": "markdown",
   "id": "6abc24ff-2b09-4b58-8624-fff7e61979d1",
   "metadata": {},
   "source": [
    "12. Find the first occurrence of a word in a string."
   ]
  },
  {
   "cell_type": "code",
   "execution_count": 15,
   "id": "5f77c714-c6fd-4509-9eee-0d7043ca53d4",
   "metadata": {},
   "outputs": [
    {
     "name": "stdout",
     "output_type": "stream",
     "text": [
      "5\n"
     ]
    }
   ],
   "source": [
    "str12 = \"I am Working\"\n",
    "str12 = str11.lower()\n",
    "print(str11.index(\"working\"))"
   ]
  },
  {
   "cell_type": "markdown",
   "id": "461348e6-4761-4b66-a713-0801656d59c2",
   "metadata": {},
   "source": [
    "13. Find the last occurrence of a word in a string."
   ]
  },
  {
   "cell_type": "code",
   "execution_count": 31,
   "id": "ec5287d2-bd5b-4c6e-8a88-d100f6b1dd7b",
   "metadata": {},
   "outputs": [
    {
     "name": "stdout",
     "output_type": "stream",
     "text": [
      "9\n"
     ]
    }
   ],
   "source": [
    "str13 = \"both are both\"\n",
    "print(str13.rfind('both'))"
   ]
  },
  {
   "cell_type": "markdown",
   "id": "07bf4081-9f5b-48f5-9fbf-29ef1e8e367c",
   "metadata": {},
   "source": [
    "14.Split a string into a list of words."
   ]
  },
  {
   "cell_type": "code",
   "execution_count": 25,
   "id": "ecf34aed-d0a3-4068-a08d-b80dc46389a8",
   "metadata": {},
   "outputs": [
    {
     "data": {
      "text/plain": [
       "['This', 'is', 'Sai', 'Kumar']"
      ]
     },
     "execution_count": 25,
     "metadata": {},
     "output_type": "execute_result"
    }
   ],
   "source": [
    "str14 = \"This is Sai Kumar\"\n",
    "str14.split(sep=\" \")"
   ]
  },
  {
   "cell_type": "markdown",
   "id": "a955c896-9f8b-4de5-bf93-0587119a4957",
   "metadata": {},
   "source": [
    "15. Join a list of words into a string."
   ]
  },
  {
   "cell_type": "code",
   "execution_count": 29,
   "id": "394c43c3-7fa5-4369-af31-a1d08ec6834d",
   "metadata": {},
   "outputs": [
    {
     "name": "stdout",
     "output_type": "stream",
     "text": [
      "sai kumar\n"
     ]
    }
   ],
   "source": [
    "word_1 = \"sai\"\n",
    "word_2 = \"kumar\"\n",
    "print(word_1 + \" \" + word_2)"
   ]
  },
  {
   "cell_type": "markdown",
   "id": "8b9b3ce4-47f7-401a-9ae5-6a3c03a8ff40",
   "metadata": {},
   "source": [
    "16. Convert a string where words are separated by spaces to one where words\n",
    "are separated by underscores."
   ]
  },
  {
   "cell_type": "code",
   "execution_count": 34,
   "id": "7615f2b8-acc7-4519-bd93-7b384a36a9b8",
   "metadata": {},
   "outputs": [
    {
     "name": "stdout",
     "output_type": "stream",
     "text": [
      "This_is_Sai\n"
     ]
    }
   ],
   "source": [
    "str16 = \"This is Sai\"\n",
    "print(str16.replace(\" \",\"_\"))\n"
   ]
  },
  {
   "cell_type": "markdown",
   "id": "2ab8ed28-dae4-4d35-8511-2941a1f1b00d",
   "metadata": {},
   "source": [
    "17. Check if a string starts with a specific word or phrase."
   ]
  },
  {
   "cell_type": "code",
   "execution_count": 41,
   "id": "f31837cb-9429-42f9-9966-0db988238313",
   "metadata": {},
   "outputs": [
    {
     "data": {
      "text/plain": [
       "True"
      ]
     },
     "execution_count": 41,
     "metadata": {},
     "output_type": "execute_result"
    }
   ],
   "source": [
    "str17 = \"Sai also known as Lord Sky\"\n",
    "str17.startswith(\"Sai\")"
   ]
  },
  {
   "cell_type": "markdown",
   "id": "2336e355-957c-4bb3-96d7-c3e6966b39cb",
   "metadata": {},
   "source": [
    "18. Check if a string ends with a specific word or phrase."
   ]
  },
  {
   "cell_type": "code",
   "execution_count": 43,
   "id": "e8446d50-964d-4498-a49f-0ceb065d4f37",
   "metadata": {},
   "outputs": [
    {
     "data": {
      "text/plain": [
       "True"
      ]
     },
     "execution_count": 43,
     "metadata": {},
     "output_type": "execute_result"
    }
   ],
   "source": [
    "str18 = \"Sai also known as Lord Sky\"\n",
    "str18.endswith(\"Sky\")"
   ]
  },
  {
   "cell_type": "markdown",
   "id": "7d96e301-e74c-41fb-a58a-25422931bf8b",
   "metadata": {},
   "source": [
    "19. Convert a string to title case (e.g., \"hello world\" to \"Hello World\")."
   ]
  },
  {
   "cell_type": "code",
   "execution_count": 44,
   "id": "d063fdb5-6ca4-4652-a0f2-4d6f53836d3b",
   "metadata": {},
   "outputs": [
    {
     "data": {
      "text/plain": [
       "'Hello World'"
      ]
     },
     "execution_count": 44,
     "metadata": {},
     "output_type": "execute_result"
    }
   ],
   "source": [
    "str19 = \"hello world\"\n",
    "str19.title()"
   ]
  },
  {
   "cell_type": "markdown",
   "id": "94849c0f-6127-495a-9060-c0df3ee7654a",
   "metadata": {},
   "source": [
    "20. Find the longest word in a string."
   ]
  },
  {
   "cell_type": "code",
   "execution_count": 58,
   "id": "b1bd38d4-914e-43ed-9d41-d839fcf1f397",
   "metadata": {},
   "outputs": [
    {
     "name": "stdout",
     "output_type": "stream",
     "text": [
      "Kumar\n"
     ]
    }
   ],
   "source": [
    "str20 = \"I am Sai Kumar\"\n",
    "str20 = str20.split(\" \")\n",
    "long_word =\" \"\n",
    "max_len = 0\n",
    "for i in str20:\n",
    "    if len(i) > max_len:\n",
    "        long_word = i\n",
    "        max_len = len(i)\n",
    "print(long_word)\n",
    "    "
   ]
  },
  {
   "cell_type": "markdown",
   "id": "a595b0e9-36df-4b17-9130-6b18bb130b12",
   "metadata": {},
   "source": [
    "21. Find the shortest word in a string."
   ]
  },
  {
   "cell_type": "code",
   "execution_count": 66,
   "id": "fdf2a5c8-02dd-481f-a03d-a9efe33a7740",
   "metadata": {},
   "outputs": [
    {
     "name": "stdout",
     "output_type": "stream",
     "text": [
      "I\n"
     ]
    }
   ],
   "source": [
    "str21 = \"I am Sai Kumar\"\n",
    "str21 = str21.split(\" \")\n",
    "short_word =\" \"\n",
    "#min_length to positive infinity to keep track of the shortest word and its length found so far.\n",
    "min_len = float('inf')\n",
    "for i in str20:\n",
    "    if len(i) < min_len:\n",
    "        short_word = i\n",
    "        min_len = len(i)\n",
    "print(short_word)"
   ]
  },
  {
   "cell_type": "markdown",
   "id": "fab8b426-53af-4e3a-8ecc-1b7428d32ec2",
   "metadata": {},
   "source": [
    "22. Reverse the order of words in a string."
   ]
  },
  {
   "cell_type": "code",
   "execution_count": 81,
   "id": "421b4ce4-889e-4ff4-b1d2-d9506f994398",
   "metadata": {},
   "outputs": [
    {
     "name": "stdout",
     "output_type": "stream",
     "text": [
      "Science Data learning am I\n"
     ]
    }
   ],
   "source": [
    "str22 = \"I am learning Data Science\"\n",
    "words = str22.split()\n",
    "rev_words = words[::-1]\n",
    "rev_str = ' '.join(rev_words)\n",
    "print(rev_str)\n"
   ]
  },
  {
   "cell_type": "markdown",
   "id": "de434c30-52ea-483d-b6b4-e2dcc0d129d0",
   "metadata": {},
   "source": [
    "23. Check if a string is alphanumeric."
   ]
  },
  {
   "cell_type": "code",
   "execution_count": 82,
   "id": "78e70e33-1497-430e-b356-190355b6cfb4",
   "metadata": {},
   "outputs": [
    {
     "data": {
      "text/plain": [
       "True"
      ]
     },
     "execution_count": 82,
     "metadata": {},
     "output_type": "execute_result"
    }
   ],
   "source": [
    "str23 = \"Sai138\"\n",
    "str23.isalnum()"
   ]
  },
  {
   "cell_type": "markdown",
   "id": "4b00518f-596e-465f-bee6-11af5f855b5c",
   "metadata": {},
   "source": [
    "24. Extract all digits from a string."
   ]
  },
  {
   "cell_type": "code",
   "execution_count": 6,
   "id": "d0a62d88-7274-4f5b-bc1c-730733640d14",
   "metadata": {},
   "outputs": [
    {
     "name": "stdout",
     "output_type": "stream",
     "text": [
      "138\n"
     ]
    }
   ],
   "source": [
    "str24 = \"sai138\"\n",
    "digits =''\n",
    "for i in str24:\n",
    "    if i.isdigit():\n",
    "        digits = digits + i\n",
    "print(digits)"
   ]
  },
  {
   "cell_type": "markdown",
   "id": "c7549138-b383-45b3-93dd-190e467750c6",
   "metadata": {},
   "source": [
    "25. Extract all alphabets from a string."
   ]
  },
  {
   "cell_type": "code",
   "execution_count": 12,
   "id": "a15b7cc9-fefe-4471-8717-fffed8ff7322",
   "metadata": {},
   "outputs": [
    {
     "name": "stdout",
     "output_type": "stream",
     "text": [
      " sai\n"
     ]
    }
   ],
   "source": [
    "str25 = \"sai138\"\n",
    "alpha =\" \"\n",
    "for i in str24:\n",
    "    if i.isalpha():\n",
    "        alpha = alpha + i\n",
    "print(alpha)"
   ]
  },
  {
   "cell_type": "markdown",
   "id": "3bcc2649-6c5f-4296-af88-60849f30fe29",
   "metadata": {},
   "source": [
    "26. Count the number of uppercase letters in a string."
   ]
  },
  {
   "cell_type": "code",
   "execution_count": 19,
   "id": "270b52bf-6721-4f1e-89dc-caf9fe6e1c2b",
   "metadata": {},
   "outputs": [
    {
     "name": "stdout",
     "output_type": "stream",
     "text": [
      "2\n"
     ]
    }
   ],
   "source": [
    "str26 = 'SaiKumar'\n",
    "count = 0\n",
    "for i in str26:\n",
    "    if i.isupper():\n",
    "        count = count + 1\n",
    "print(count)"
   ]
  },
  {
   "cell_type": "markdown",
   "id": "5d192ed0-7064-46a0-b5ba-69b068f3c616",
   "metadata": {},
   "source": [
    "27. Count the number of lowercase letters in a string."
   ]
  },
  {
   "cell_type": "code",
   "execution_count": 20,
   "id": "4cb841c7-719f-46d6-af1b-cd492d8205d5",
   "metadata": {},
   "outputs": [
    {
     "name": "stdout",
     "output_type": "stream",
     "text": [
      "6\n"
     ]
    }
   ],
   "source": [
    "str27 = 'SaiKumar'\n",
    "count = 0\n",
    "for i in str26:\n",
    "    if i.islower():\n",
    "        count = count + 1\n",
    "print(count)"
   ]
  },
  {
   "cell_type": "markdown",
   "id": "d690067a-0aa8-4df3-9215-e6327acb7b6f",
   "metadata": {},
   "source": [
    "28. Swap the case of each character in a string."
   ]
  },
  {
   "cell_type": "code",
   "execution_count": 24,
   "id": "cf0ad68d-d916-4d2e-934e-6e97627e7c4e",
   "metadata": {},
   "outputs": [
    {
     "data": {
      "text/plain": [
       "'sAIkUMAR'"
      ]
     },
     "execution_count": 24,
     "metadata": {},
     "output_type": "execute_result"
    }
   ],
   "source": [
    "str28 = 'SaiKumar'\n",
    "str28.swapcase()"
   ]
  },
  {
   "cell_type": "markdown",
   "id": "6ad1850c-e8d2-40b7-b167-ba038274cd25",
   "metadata": {},
   "source": [
    "29. Remove a specific word from a string."
   ]
  },
  {
   "cell_type": "code",
   "execution_count": 33,
   "id": "444edf76-38ac-4f21-80a6-acb28543fd0d",
   "metadata": {},
   "outputs": [
    {
     "data": {
      "text/plain": [
       "'I am Sai '"
      ]
     },
     "execution_count": 33,
     "metadata": {},
     "output_type": "execute_result"
    }
   ],
   "source": [
    "str29 = \"I am Sai Kumar\"\n",
    "str29.removesuffix('Kumar')"
   ]
  },
  {
   "cell_type": "markdown",
   "id": "856e48ec-7509-42c4-a8b0-4d1c89d4b45c",
   "metadata": {},
   "source": [
    "30. Check if a string is a valid email address."
   ]
  },
  {
   "cell_type": "code",
   "execution_count": 39,
   "id": "55e45f63-a8b3-4322-b78e-257832ec8fcd",
   "metadata": {},
   "outputs": [
    {
     "name": "stdout",
     "output_type": "stream",
     "text": [
      "Collecting email_validator\n",
      "  Downloading email_validator-2.0.0.post2-py3-none-any.whl (31 kB)\n",
      "Collecting dnspython>=2.0.0\n",
      "  Downloading dnspython-2.4.2-py3-none-any.whl (300 kB)\n",
      "\u001b[2K     \u001b[90m━━━━━━━━━━━━━━━━━━━━━━━━━━━━━━━━━━━━━━\u001b[0m \u001b[32m300.4/300.4 kB\u001b[0m \u001b[31m27.9 MB/s\u001b[0m eta \u001b[36m0:00:00\u001b[0m\n",
      "\u001b[?25hRequirement already satisfied: idna>=2.0.0 in /opt/conda/lib/python3.10/site-packages (from email_validator) (3.4)\n",
      "Installing collected packages: dnspython, email_validator\n",
      "Successfully installed dnspython-2.4.2 email_validator-2.0.0.post2\n",
      "Note: you may need to restart the kernel to use updated packages.\n"
     ]
    }
   ],
   "source": [
    "pip install email_validator"
   ]
  },
  {
   "cell_type": "code",
   "execution_count": 45,
   "id": "147d8a1e-b93a-4d34-9111-ec6c2861740c",
   "metadata": {},
   "outputs": [
    {
     "name": "stdout",
     "output_type": "stream",
     "text": [
      "Valid email address\n"
     ]
    }
   ],
   "source": [
    "from email_validator import validate_email\n",
    "\n",
    "email = \"maddiboinasai138@gmail.com\"\n",
    "\n",
    "is_valid = validate_email(email)\n",
    "if is_valid:\n",
    "    print(\"Valid email address\")\n",
    "else:\n",
    "    print(\"Invalid\")"
   ]
  },
  {
   "cell_type": "markdown",
   "id": "dc592011-4994-4ae1-9dc2-3634a39b6eaf",
   "metadata": {},
   "source": [
    "31. Extract the username from an email address string."
   ]
  },
  {
   "cell_type": "code",
   "execution_count": 54,
   "id": "dbca1f62-59d2-400d-95cc-92fc19dfa91f",
   "metadata": {},
   "outputs": [
    {
     "name": "stdout",
     "output_type": "stream",
     "text": [
      "maddiboinasai138\n"
     ]
    }
   ],
   "source": [
    "email = \"maddiboina.sai138@gmail.com\"\n",
    "INDEX = email.index('@')\n",
    "user_name = email[0:INDEX]\n",
    "print(user_name.replace('.',''))"
   ]
  },
  {
   "cell_type": "markdown",
   "id": "95a05042-59bc-4e7a-a0f8-6cdf67ea7f97",
   "metadata": {},
   "source": [
    "32. Extract the domain name from an email address string."
   ]
  },
  {
   "cell_type": "code",
   "execution_count": 57,
   "id": "c89d71f6-58b1-4ea9-8f4a-e57361720300",
   "metadata": {},
   "outputs": [
    {
     "name": "stdout",
     "output_type": "stream",
     "text": [
      "gmail.com\n"
     ]
    }
   ],
   "source": [
    "email = \"maddiboina.sai138@gmail.com\"\n",
    "INDEX = email.index('@')\n",
    "domain_name = email[INDEX+1::1]\n",
    "print(domain_name)"
   ]
  },
  {
   "cell_type": "markdown",
   "id": "06d687e6-b08b-4add-af6b-34eceb1548b8",
   "metadata": {},
   "source": [
    "33. Replace multiple spaces in a string with a single space."
   ]
  },
  {
   "cell_type": "code",
   "execution_count": 82,
   "id": "3a541c6f-c92a-41f2-a20c-06dd639ad5e0",
   "metadata": {},
   "outputs": [
    {
     "data": {
      "text/plain": [
       "'S a i K u m a r'"
      ]
     },
     "execution_count": 82,
     "metadata": {},
     "output_type": "execute_result"
    }
   ],
   "source": [
    "str33='S  a i K u m   a r'\n",
    "' '.join(str33.split())"
   ]
  },
  {
   "cell_type": "markdown",
   "id": "f6f7af4b-014d-4d71-b47e-089eb7cbac3e",
   "metadata": {},
   "source": [
    "34. Check if a string is a valid URL."
   ]
  },
  {
   "cell_type": "code",
   "execution_count": 84,
   "id": "de6c3557-12b7-4d43-b5d0-a0cabd338d23",
   "metadata": {},
   "outputs": [
    {
     "name": "stdout",
     "output_type": "stream",
     "text": [
      "Collecting validators\n",
      "  Downloading validators-0.22.0-py3-none-any.whl (26 kB)\n",
      "Installing collected packages: validators\n",
      "Successfully installed validators-0.22.0\n",
      "Note: you may need to restart the kernel to use updated packages.\n"
     ]
    }
   ],
   "source": [
    "pip install validators"
   ]
  },
  {
   "cell_type": "code",
   "execution_count": 86,
   "id": "c488bed9-b81b-4be3-af73-83ff69d88ae0",
   "metadata": {},
   "outputs": [
    {
     "data": {
      "text/plain": [
       "True"
      ]
     },
     "execution_count": 86,
     "metadata": {},
     "output_type": "execute_result"
    }
   ],
   "source": [
    "import validators\n",
    "validators.url(\"https://lab.pwskills.com/my-labs\")"
   ]
  },
  {
   "cell_type": "markdown",
   "id": "b621ee13-783e-4505-a520-33f02d4327ac",
   "metadata": {},
   "source": [
    "35. Extract the protocol (http or https) from a URL string."
   ]
  },
  {
   "cell_type": "code",
   "execution_count": 93,
   "id": "e32c11cc-aa48-4b17-ad2f-a45de19622d5",
   "metadata": {},
   "outputs": [
    {
     "data": {
      "text/plain": [
       "'https'"
      ]
     },
     "execution_count": 93,
     "metadata": {},
     "output_type": "execute_result"
    }
   ],
   "source": [
    "from urllib.parse import urlparse\n",
    "\n",
    "url_string = \"https://lab.pwskills.com/my-labs\"\n",
    "protocol = urlparse(url_string).scheme\n",
    "protocol"
   ]
  },
  {
   "cell_type": "markdown",
   "id": "be1f022c-8f93-4c6f-804a-82eb80fb614b",
   "metadata": {},
   "source": [
    "36. Find the frequency of each character in a string."
   ]
  },
  {
   "cell_type": "code",
   "execution_count": 120,
   "id": "66c5f1d6-93ae-4453-9b13-cef3e6ee7423",
   "metadata": {},
   "outputs": [
    {
     "name": "stdout",
     "output_type": "stream",
     "text": [
      "H: 1\n",
      "e: 1\n",
      "l: 3\n",
      "l: 3\n",
      "o: 2\n",
      " : 1\n",
      "W: 1\n",
      "o: 2\n",
      "r: 1\n",
      "l: 3\n",
      "d: 1\n",
      "!: 1\n"
     ]
    }
   ],
   "source": [
    "str36 = 'Hello World!'\n",
    "for i in str36:\n",
    "    frequency = str36.count(i)\n",
    "    print(str(i) + \": \" + str(frequency))"
   ]
  },
  {
   "cell_type": "markdown",
   "id": "266a551a-919a-4dcb-9eb4-1eb488895e58",
   "metadata": {},
   "source": [
    "37. Remove all punctuation from a string."
   ]
  },
  {
   "cell_type": "code",
   "execution_count": 124,
   "id": "c58188fb-6d08-4116-9347-fb8d5beeeb31",
   "metadata": {},
   "outputs": [
    {
     "name": "stdout",
     "output_type": "stream",
     "text": [
      "HiSaiHow are you\n"
     ]
    }
   ],
   "source": [
    "import string\n",
    "\n",
    "str37 = \"Hi,Sai!How are you?\"\n",
    "\n",
    "str37 = str37.translate(str.maketrans('', '', string.punctuation))\n",
    "print(str37)"
   ]
  },
  {
   "cell_type": "markdown",
   "id": "a28124b7-897a-4553-a46b-6fdc11cb8d89",
   "metadata": {},
   "source": [
    "38. Check if a string contains only digits."
   ]
  },
  {
   "cell_type": "code",
   "execution_count": 125,
   "id": "2094cfe1-aa54-48a7-8513-d08754632b6b",
   "metadata": {},
   "outputs": [
    {
     "data": {
      "text/plain": [
       "True"
      ]
     },
     "execution_count": 125,
     "metadata": {},
     "output_type": "execute_result"
    }
   ],
   "source": [
    "str38 ='1234567890'\n",
    "str38.isdigit()"
   ]
  },
  {
   "cell_type": "markdown",
   "id": "29ee0413-1aa2-4d95-a2b3-70f25930f6d7",
   "metadata": {},
   "source": [
    "39. Check if a string contains only alphabets."
   ]
  },
  {
   "cell_type": "code",
   "execution_count": 128,
   "id": "1148dd62-eda9-4331-bd4f-0ef2bffb7e7a",
   "metadata": {},
   "outputs": [
    {
     "data": {
      "text/plain": [
       "True"
      ]
     },
     "execution_count": 128,
     "metadata": {},
     "output_type": "execute_result"
    }
   ],
   "source": [
    "str38 = 'sai'\n",
    "str38.isalpha()"
   ]
  },
  {
   "cell_type": "markdown",
   "id": "16e534e3-17e8-4831-a728-d3268e26fe3b",
   "metadata": {},
   "source": [
    "40. Convert a string to a list of characters."
   ]
  },
  {
   "cell_type": "code",
   "execution_count": 129,
   "id": "b166cca2-39d0-4476-b047-ae8f503c0695",
   "metadata": {},
   "outputs": [
    {
     "data": {
      "text/plain": [
       "['s', 'a', 'i', 'k', 'u', 'm', 'a', 'r', 's']"
      ]
     },
     "execution_count": 129,
     "metadata": {},
     "output_type": "execute_result"
    }
   ],
   "source": [
    "str40 = 'saikumars'\n",
    "list(str40)"
   ]
  },
  {
   "cell_type": "markdown",
   "id": "8ffe5a1c-5e18-4476-9c4f-302cd85cbe8e",
   "metadata": {},
   "source": [
    "41. Check if two strings are anagrams."
   ]
  },
  {
   "cell_type": "code",
   "execution_count": 2,
   "id": "0ba03d75-f4a9-49a1-b8ea-89c929b9b242",
   "metadata": {},
   "outputs": [
    {
     "name": "stdout",
     "output_type": "stream",
     "text": [
      "Yes,anagrams\n"
     ]
    }
   ],
   "source": [
    "str1 = 'Saikumar'\n",
    "str2 ='Kumarsai'\n",
    "str1 = str1.lower()\n",
    "str2 = str2.lower()\n",
    "if sorted(str1) == sorted(str2):\n",
    "    print(\"Yes,anagrams\")\n",
    "else:\n",
    "    print(\"Not\")"
   ]
  },
  {
   "cell_type": "markdown",
   "id": "a6d32b97-e789-48c2-aad5-af16110b0d0d",
   "metadata": {},
   "source": [
    "42. Encode a string using a Caesar cipher."
   ]
  },
  {
   "cell_type": "code",
   "execution_count": 12,
   "id": "98a64289-0869-4178-908f-fd155791b987",
   "metadata": {},
   "outputs": [
    {
     "name": "stdout",
     "output_type": "stream",
     "text": [
      "Khoor, Zruog!\n"
     ]
    }
   ],
   "source": [
    "import string\n",
    "\n",
    "def caesar_cipher(text, shift):\n",
    "    alphabet = string.ascii_lowercase + string.ascii_uppercase\n",
    "    shifted_alphabet = alphabet[shift:] + alphabet[:shift]\n",
    "    translation_table = str.maketrans(alphabet, shifted_alphabet)\n",
    "    \n",
    "    return text.translate(translation_table)\n",
    "text = \"Hello, World!\"\n",
    "shift = 3\n",
    "encoded_text = caesar_cipher(text, shift)\n",
    "print(encoded_text)"
   ]
  },
  {
   "cell_type": "markdown",
   "id": "a4f9ccc1-1886-466e-96ac-3afec776df33",
   "metadata": {},
   "source": [
    "43. Decode a Caesar cipher encoded string."
   ]
  },
  {
   "cell_type": "code",
   "execution_count": 14,
   "id": "02bc7573-479c-4a1b-a1e7-2971fc8e20f2",
   "metadata": {},
   "outputs": [
    {
     "name": "stdout",
     "output_type": "stream",
     "text": [
      "Hello, World!\n"
     ]
    }
   ],
   "source": [
    "def caesar_decipher(encoded_text, shift):\n",
    "    decoded_text = caesar_cipher(encoded_text, -shift) #negative shift\n",
    "    return decoded_text\n",
    "\n",
    "encoded_text = \"Khoor, Zruog!\"\n",
    "shift = 3\n",
    "decoded_text = caesar_decipher(encoded_text, shift)\n",
    "print(decoded_text)"
   ]
  },
  {
   "cell_type": "markdown",
   "id": "016e80f7-90b2-41e0-aac2-b6c5c1e58da7",
   "metadata": {},
   "source": [
    "44. Find the most frequent word in a string."
   ]
  },
  {
   "cell_type": "code",
   "execution_count": 20,
   "id": "8f481de0-7179-4606-93e2-1a0208fff0f6",
   "metadata": {},
   "outputs": [
    {
     "name": "stdout",
     "output_type": "stream",
     "text": [
      "Word with maximum frequency : I\n"
     ]
    }
   ],
   "source": [
    "from statistics import mode\n",
    "test_list = [\"I am Sai\", \"I am working\", \"I am Sudying\"]\n",
    "\n",
    "temp = [word for i in test_list for word in i.split()] #getting all words\n",
    "\n",
    "res = mode(temp) #getting frequency\n",
    "\n",
    "print(\"Word with maximum frequency : \" + str(res))"
   ]
  },
  {
   "cell_type": "markdown",
   "id": "c8e2fa2f-2a53-4ac4-8c47-91cc35154347",
   "metadata": {},
   "source": [
    "45. Find all unique words in a string."
   ]
  },
  {
   "cell_type": "code",
   "execution_count": 5,
   "id": "987e1127-3a29-4358-b25b-191b43ceda29",
   "metadata": {},
   "outputs": [
    {
     "name": "stdout",
     "output_type": "stream",
     "text": [
      "{'is', 'sai', 'my', 'name'}\n"
     ]
    }
   ],
   "source": [
    "import re\n",
    "\n",
    "def unique_words(string):\n",
    "    #convert the string into lowercase as well as remove punctuation\n",
    "    Modified_String = re.sub(r'[^\\w\\s]', '', string).lower()\n",
    "    words = set(Modified_String.split()) #split into words\n",
    "    return words\n",
    "string = \"My my name is is Sai!!\"\n",
    "print(unique_words(string))"
   ]
  },
  {
   "cell_type": "markdown",
   "id": "96d16203-c42e-4a7c-baa1-3f5c42023804",
   "metadata": {},
   "source": [
    "46. Count the number of syllables in a string."
   ]
  },
  {
   "cell_type": "code",
   "execution_count": 13,
   "id": "c5e8044d-e465-47e1-8caa-7ef78ca4a109",
   "metadata": {},
   "outputs": [
    {
     "name": "stdout",
     "output_type": "stream",
     "text": [
      "sai : 1 lordsky : 2\n"
     ]
    }
   ],
   "source": [
    "import re\n",
    "\n",
    "def count_syllables(word):\n",
    "    \n",
    "    vowel_groups = re.findall(r'[aeiouy]+', word, re.IGNORECASE)\n",
    "\n",
    "    return len(vowel_groups)\n",
    "\n",
    "w1 = \"sai\"\n",
    "w2 = \"lordsky\"\n",
    "#count syllables\n",
    "syllables1 = count_syllables(w1)\n",
    "syllables2 = count_syllables(w2)\n",
    "print(w1,\":\",syllables1,w2,\":\",syllables2)"
   ]
  },
  {
   "cell_type": "markdown",
   "id": "550067ca-409c-48b5-89d7-dd33f855a30c",
   "metadata": {},
   "source": [
    "47. Check if a string contains any special characters."
   ]
  },
  {
   "cell_type": "code",
   "execution_count": 16,
   "id": "6abab2a7-ad2a-4d5d-9bbc-34c02fa512cb",
   "metadata": {},
   "outputs": [
    {
     "data": {
      "text/plain": [
       "True"
      ]
     },
     "execution_count": 16,
     "metadata": {},
     "output_type": "execute_result"
    }
   ],
   "source": [
    "import re\n",
    "\n",
    "def special_char(string):\n",
    "    pattern = re.compile(r'[!@#$%^&*()_+{}\\[\\]:;<>,.?~\\\\/]')\n",
    "    match = pattern.search(string) #search to find a match\n",
    "    return bool(match) #return true if it found match\n",
    "special_char(\"I am Sai, @working in a company%#!!\")      \n",
    "    "
   ]
  },
  {
   "cell_type": "markdown",
   "id": "58bb4ee2-fe10-4b8d-8654-1bc50ecbb248",
   "metadata": {},
   "source": [
    "48. Remove the nth word from a string."
   ]
  },
  {
   "cell_type": "code",
   "execution_count": 17,
   "id": "e181d16b-53fc-4c99-a66c-721255134230",
   "metadata": {},
   "outputs": [
    {
     "data": {
      "text/plain": [
       "('Sai', 'Iamkumar')"
      ]
     },
     "execution_count": 17,
     "metadata": {},
     "output_type": "execute_result"
    }
   ],
   "source": [
    "def remove_nth_word(string,n):\n",
    "    words = string.split()\n",
    "    if n >=1 and n<=len(string):\n",
    "        nth_word = words.pop(n-1)\n",
    "        remaining_string = ''.join(words)\n",
    "        return nth_word,remaining_string\n",
    "    else:\n",
    "        return None, None\n",
    "remove_nth_word(\"I am Sai kumar\",3)    "
   ]
  },
  {
   "cell_type": "markdown",
   "id": "51d59182-e245-4d17-9dd8-80ffaebf9e31",
   "metadata": {},
   "source": [
    "49. Insert a word at the nth position in a string."
   ]
  },
  {
   "cell_type": "code",
   "execution_count": 3,
   "id": "3f645007-3f5e-4a75-bfef-be68e2b4a662",
   "metadata": {},
   "outputs": [
    {
     "data": {
      "text/plain": [
       "(None, 'IamskySaikumar')"
      ]
     },
     "execution_count": 3,
     "metadata": {},
     "output_type": "execute_result"
    }
   ],
   "source": [
    "def insert_word_at_nth(string,insert_word,n):\n",
    "    words = string.split()\n",
    "    if n >=1 and n<=len(string):\n",
    "        nth_word = words.insert(n-1,insert_word)\n",
    "        remaining_string = ''.join(words)\n",
    "        return nth_word,remaining_string\n",
    "    else:\n",
    "        return None, None\n",
    "insert_word_at_nth(\"I am Sai kumar\",\"sky\",3)   "
   ]
  },
  {
   "cell_type": "markdown",
   "id": "a6277474-bc4f-44f9-ad8a-064bb19666a6",
   "metadata": {},
   "source": [
    "50. Convert a CSV string to a list of lists."
   ]
  },
  {
   "cell_type": "code",
   "execution_count": 10,
   "id": "10364a14-55f5-4957-b962-9b33451ca148",
   "metadata": {},
   "outputs": [
    {
     "data": {
      "text/plain": [
       "[['I am Sai'], ['I am Sky'], ['I am Lord']]"
      ]
     },
     "execution_count": 10,
     "metadata": {},
     "output_type": "execute_result"
    }
   ],
   "source": [
    "def csv_string_to_list(csv_string):\n",
    "    lines = csv_string.split('\\n')\n",
    "    result = []\n",
    "    \n",
    "    for i in lines:\n",
    "        words = i.split(',')\n",
    "        result.append(words)\n",
    "    return result\n",
    " \n",
    "csv_string = \"I am Sai\\nI am Sky\\nI am Lord\"\n",
    "csv_string_to_list(csv_string)"
   ]
  },
  {
   "cell_type": "markdown",
   "id": "ec7b0b60-c1df-4181-8d74-2b71a56a2f83",
   "metadata": {},
   "source": [
    "List Based Practice Problem :"
   ]
  },
  {
   "cell_type": "markdown",
   "id": "c3dc00e5-9bb8-48d4-bc75-1988f83c9695",
   "metadata": {},
   "source": [
    "1. Create a list with integers from 1 to 10."
   ]
  },
  {
   "cell_type": "code",
   "execution_count": 1,
   "id": "ba7d941d-8822-4d48-85cb-0d0d9c4a2162",
   "metadata": {},
   "outputs": [
    {
     "data": {
      "text/plain": [
       "[1, 2, 3, 4, 5, 6, 7, 8, 9, 10]"
      ]
     },
     "execution_count": 1,
     "metadata": {},
     "output_type": "execute_result"
    }
   ],
   "source": [
    "list(range(1,11))"
   ]
  },
  {
   "cell_type": "markdown",
   "id": "9f9275fa-eb2b-40d9-b609-15175c56a62f",
   "metadata": {},
   "source": [
    "2. Find the length of a list without using the `len()` function."
   ]
  },
  {
   "cell_type": "code",
   "execution_count": 19,
   "id": "31671804-f971-436e-a969-42e812f722b2",
   "metadata": {},
   "outputs": [
    {
     "name": "stdout",
     "output_type": "stream",
     "text": [
      "8\n"
     ]
    }
   ],
   "source": [
    "list = [1,2,3,4,5,6,7,8]\n",
    "length = 0\n",
    "for i in list:\n",
    "    length = length + 1\n",
    "print(length)"
   ]
  },
  {
   "cell_type": "markdown",
   "id": "d2c5e659-5af3-4bd4-ae55-e23d1fbd0dc8",
   "metadata": {},
   "source": [
    "3. Append an element to the end of a list."
   ]
  },
  {
   "cell_type": "code",
   "execution_count": 21,
   "id": "562f6b1e-d3aa-456b-838f-af7dd66ff9f7",
   "metadata": {},
   "outputs": [
    {
     "data": {
      "text/plain": [
       "[1, 2, 3, 4, 5, 6, 7, 8, 9]"
      ]
     },
     "execution_count": 21,
     "metadata": {},
     "output_type": "execute_result"
    }
   ],
   "source": [
    "list = [1,2,3,4,5,6,7,8]\n",
    "list.append(9)\n",
    "list"
   ]
  },
  {
   "cell_type": "markdown",
   "id": "0b7c6d35-3096-4c2d-b807-5917e8573bdf",
   "metadata": {},
   "source": [
    "4. Insert an element at a specific index in a list."
   ]
  },
  {
   "cell_type": "code",
   "execution_count": 23,
   "id": "1a5ae537-102a-4ce8-8e21-31d256b8bda5",
   "metadata": {},
   "outputs": [
    {
     "data": {
      "text/plain": [
       "[0, 1, 2, 3, 4, 5, 6, 7, 8]"
      ]
     },
     "execution_count": 23,
     "metadata": {},
     "output_type": "execute_result"
    }
   ],
   "source": [
    "list = [1,2,3,4,5,6,7,8]\n",
    "list.insert(0,0)\n",
    "list"
   ]
  },
  {
   "cell_type": "markdown",
   "id": "ce9ebf4a-40e5-47c9-8d69-235b8e11f6fd",
   "metadata": {},
   "source": [
    "5. Remove an element from a list by its value."
   ]
  },
  {
   "cell_type": "code",
   "execution_count": 25,
   "id": "44739fc2-8386-4413-b047-1e92f23db275",
   "metadata": {},
   "outputs": [
    {
     "data": {
      "text/plain": [
       "[1, 2, 3, 4, 5, 6, 7]"
      ]
     },
     "execution_count": 25,
     "metadata": {},
     "output_type": "execute_result"
    }
   ],
   "source": [
    "list = [1,2,3,4,5,6,7,8]\n",
    "list.remove(8)\n",
    "list"
   ]
  },
  {
   "cell_type": "markdown",
   "id": "ca0843de-53e6-44ce-9edf-9f39c3e7263b",
   "metadata": {},
   "source": [
    "6. Remove an element from a list by its index."
   ]
  },
  {
   "cell_type": "code",
   "execution_count": 27,
   "id": "4a4b60a0-70c9-4667-8c85-50d17cdd7b14",
   "metadata": {},
   "outputs": [
    {
     "data": {
      "text/plain": [
       "[1, 2, 3, 4, 5, 7, 8]"
      ]
     },
     "execution_count": 27,
     "metadata": {},
     "output_type": "execute_result"
    }
   ],
   "source": [
    "list = [1,2,3,4,5,6,7,8]\n",
    "list.pop(5)\n",
    "list"
   ]
  },
  {
   "cell_type": "markdown",
   "id": "36c032b5-5cb8-4ac5-8cd6-f4db86bdac03",
   "metadata": {},
   "source": [
    "7. Check if an element exists in a list."
   ]
  },
  {
   "cell_type": "code",
   "execution_count": 30,
   "id": "f2372ed8-eaa0-4c3a-b03d-fbb37e881cf3",
   "metadata": {},
   "outputs": [
    {
     "data": {
      "text/plain": [
       "7"
      ]
     },
     "execution_count": 30,
     "metadata": {},
     "output_type": "execute_result"
    }
   ],
   "source": [
    "list = [1,2,3,4,5,6,7,8]\n",
    "list.index(8)"
   ]
  },
  {
   "cell_type": "markdown",
   "id": "00334df6-bc22-4027-9dde-ebccaf692e91",
   "metadata": {},
   "source": [
    "8. Find the index of the first occurrence of an element in a list."
   ]
  },
  {
   "cell_type": "code",
   "execution_count": 34,
   "id": "78afee48-3d98-4478-8a57-778995f1fff3",
   "metadata": {},
   "outputs": [
    {
     "data": {
      "text/plain": [
       "3"
      ]
     },
     "execution_count": 34,
     "metadata": {},
     "output_type": "execute_result"
    }
   ],
   "source": [
    "list = [1,2,3,4,5,6,4,7,8,4]\n",
    "list.index(4)"
   ]
  },
  {
   "cell_type": "markdown",
   "id": "814f8552-cd94-41f7-b623-113322ca3280",
   "metadata": {},
   "source": [
    "9. Count the occurrences of an element in a list."
   ]
  },
  {
   "cell_type": "code",
   "execution_count": 35,
   "id": "e4ff063c-2009-4133-aefb-da915d5d1a1d",
   "metadata": {},
   "outputs": [
    {
     "data": {
      "text/plain": [
       "3"
      ]
     },
     "execution_count": 35,
     "metadata": {},
     "output_type": "execute_result"
    }
   ],
   "source": [
    "list = [1,2,3,4,5,6,4,7,8,4]\n",
    "list.count(4)"
   ]
  },
  {
   "cell_type": "markdown",
   "id": "af570f7d-16c6-43ca-99f0-ad4fe923fc9e",
   "metadata": {},
   "source": [
    "10. Reverse the order of elements in a list."
   ]
  },
  {
   "cell_type": "code",
   "execution_count": 37,
   "id": "1c41c3c6-2567-4870-a796-b753ab89abf8",
   "metadata": {},
   "outputs": [
    {
     "data": {
      "text/plain": [
       "[8, 7, 6, 5, 4, 3, 2, 1]"
      ]
     },
     "execution_count": 37,
     "metadata": {},
     "output_type": "execute_result"
    }
   ],
   "source": [
    "list = [1,2,3,4,5,6,7,8]\n",
    "list.reverse()\n",
    "list"
   ]
  },
  {
   "cell_type": "markdown",
   "id": "0a76ae16-777d-4830-9c7a-759c17255482",
   "metadata": {},
   "source": [
    "11. Sort a list in ascending order."
   ]
  },
  {
   "cell_type": "code",
   "execution_count": 39,
   "id": "2c9de5a1-0f15-4285-b955-14d66ad6daf1",
   "metadata": {},
   "outputs": [
    {
     "data": {
      "text/plain": [
       "[2, 4, 5, 6, 8, 11, 13, 17]"
      ]
     },
     "execution_count": 39,
     "metadata": {},
     "output_type": "execute_result"
    }
   ],
   "source": [
    "list = [11,2,13,4,5,6,17,8]\n",
    "list.sort()\n",
    "list"
   ]
  },
  {
   "cell_type": "markdown",
   "id": "b035ffae-cf91-44e3-9836-c23c07bc6b34",
   "metadata": {},
   "source": [
    "12. Sort a list in descending order."
   ]
  },
  {
   "cell_type": "code",
   "execution_count": 41,
   "id": "82a175fc-1d29-474a-a2dd-ffa43864e8b7",
   "metadata": {},
   "outputs": [
    {
     "data": {
      "text/plain": [
       "[17, 13, 11, 8, 6, 5, 4, 2]"
      ]
     },
     "execution_count": 41,
     "metadata": {},
     "output_type": "execute_result"
    }
   ],
   "source": [
    "list = [11,2,13,4,5,6,17,8]\n",
    "list.sort(reverse = True)\n",
    "list"
   ]
  },
  {
   "cell_type": "markdown",
   "id": "c9a60080-a2ab-451f-b2b1-b01615564b2f",
   "metadata": {},
   "source": [
    "Create a list of even numbers from 1 to 20."
   ]
  },
  {
   "cell_type": "code",
   "execution_count": 2,
   "id": "14af170a-99c4-401e-8807-e94f03c508e0",
   "metadata": {},
   "outputs": [
    {
     "data": {
      "text/plain": [
       "[2, 4, 6, 8, 10, 12, 14, 16, 18, 20]"
      ]
     },
     "execution_count": 2,
     "metadata": {},
     "output_type": "execute_result"
    }
   ],
   "source": [
    "list(range(2,21,2))"
   ]
  },
  {
   "cell_type": "markdown",
   "id": "9e344902-85a7-4881-9fdc-23a601b4f515",
   "metadata": {},
   "source": [
    "14. Create a list of odd numbers from 1 to 20."
   ]
  },
  {
   "cell_type": "code",
   "execution_count": 3,
   "id": "05038017-359b-4a3f-a318-475e83fc7808",
   "metadata": {},
   "outputs": [
    {
     "data": {
      "text/plain": [
       "[1, 3, 5, 7, 9, 11, 13, 15, 17, 19]"
      ]
     },
     "execution_count": 3,
     "metadata": {},
     "output_type": "execute_result"
    }
   ],
   "source": [
    "list(range(1,21,2))"
   ]
  },
  {
   "cell_type": "markdown",
   "id": "369a7012-06a7-49d7-afcf-82cea38d150d",
   "metadata": {},
   "source": [
    "15. Find the sum of all elements in a list."
   ]
  },
  {
   "cell_type": "code",
   "execution_count": 4,
   "id": "74a03aed-a7a3-4c39-9656-6476e5e2c180",
   "metadata": {},
   "outputs": [
    {
     "data": {
      "text/plain": [
       "66"
      ]
     },
     "execution_count": 4,
     "metadata": {},
     "output_type": "execute_result"
    }
   ],
   "source": [
    "list = [11,2,13,4,5,6,17,8]\n",
    "sum(list)"
   ]
  },
  {
   "cell_type": "markdown",
   "id": "cb88d290-18ce-4330-96b5-e1a9821b337b",
   "metadata": {},
   "source": [
    "16. Find the maximum value in a list."
   ]
  },
  {
   "cell_type": "code",
   "execution_count": 5,
   "id": "6b0b3d7d-b50f-48f1-88c5-da9d603475e0",
   "metadata": {},
   "outputs": [
    {
     "data": {
      "text/plain": [
       "17"
      ]
     },
     "execution_count": 5,
     "metadata": {},
     "output_type": "execute_result"
    }
   ],
   "source": [
    "list = [11,2,13,4,5,6,17,8]\n",
    "max(list)"
   ]
  },
  {
   "cell_type": "markdown",
   "id": "48c15c95-22b0-4a68-9c7b-ee4461de1708",
   "metadata": {},
   "source": [
    "17. Find the minimum value in a list."
   ]
  },
  {
   "cell_type": "code",
   "execution_count": 6,
   "id": "4058c7d5-88ae-48dd-8734-019696fec8d9",
   "metadata": {},
   "outputs": [
    {
     "data": {
      "text/plain": [
       "2"
      ]
     },
     "execution_count": 6,
     "metadata": {},
     "output_type": "execute_result"
    }
   ],
   "source": [
    "list = [11,2,13,4,5,6,17,8]\n",
    "min(list)"
   ]
  },
  {
   "cell_type": "markdown",
   "id": "4f3e0e70-6b18-4a04-b59a-9a96d1e9aa57",
   "metadata": {},
   "source": [
    "18. Create a list of squares of numbers from 1 to 10."
   ]
  },
  {
   "cell_type": "code",
   "execution_count": 33,
   "id": "798b40cd-24e8-4b63-8b6e-8b732aaecd9a",
   "metadata": {},
   "outputs": [
    {
     "name": "stdout",
     "output_type": "stream",
     "text": [
      "[121, 4, 169, 16, 25, 36, 289, 64]\n"
     ]
    }
   ],
   "source": [
    "list = [11,2,13,4,5,6,17,8]\n",
    "sq_list = []\n",
    "for i in list:\n",
    "    sq_list.append(i**2)\n",
    "print(sq_list)"
   ]
  },
  {
   "cell_type": "markdown",
   "id": "2fb5f657-737a-4959-9c33-776b4b2e0d3e",
   "metadata": {},
   "source": [
    "19. Create a list of random numbers."
   ]
  },
  {
   "cell_type": "code",
   "execution_count": 49,
   "id": "74417528-9715-4332-ac91-9bd63c3bab88",
   "metadata": {},
   "outputs": [
    {
     "name": "stdout",
     "output_type": "stream",
     "text": [
      "[55, 29, 2, 97, 4, 31, 64, 54, 69, 46]\n"
     ]
    }
   ],
   "source": [
    "import random\n",
    "\n",
    "ran_list = []\n",
    "for i in range(10):\n",
    "    ran_list.append(random.randint(1,100))\n",
    "print(ran_list)"
   ]
  },
  {
   "cell_type": "markdown",
   "id": "e88f88ba-147f-46a8-bf6b-2902387b6ec3",
   "metadata": {},
   "source": [
    "20. Remove duplicates from a list."
   ]
  },
  {
   "cell_type": "code",
   "execution_count": 54,
   "id": "39401ce7-2e0f-4a8c-a78e-10c886cc7354",
   "metadata": {},
   "outputs": [
    {
     "name": "stdout",
     "output_type": "stream",
     "text": [
      "[1, 2, 3, 4, 5, 6, 7]\n"
     ]
    }
   ],
   "source": [
    "list = [1,1,2,2,3,4,5,5,6,7,5]\n",
    "a = set(list)\n",
    "b = []\n",
    "for i in a:\n",
    "    b.append(i)\n",
    "print(b)"
   ]
  },
  {
   "cell_type": "markdown",
   "id": "562c2616-18a9-4c3c-94fc-3f06426b5203",
   "metadata": {},
   "source": [
    "21. Find the common elements between two lists."
   ]
  },
  {
   "cell_type": "code",
   "execution_count": 6,
   "id": "27408cde-fcd9-4962-971f-944c26e111b7",
   "metadata": {},
   "outputs": [
    {
     "name": "stdout",
     "output_type": "stream",
     "text": [
      "[1, 2, 3]\n"
     ]
    }
   ],
   "source": [
    "l1 = [1,2,3,4,5]\n",
    "l2 = [1,2,3,7,8]\n",
    "l3=[]\n",
    "for i in range(len(l1)):\n",
    "    if l1[i] == l2[i]:\n",
    "        l3.append(l1[i])\n",
    "print(l3)"
   ]
  },
  {
   "cell_type": "markdown",
   "id": "7c7c8ee9-f5b1-4edf-95ae-156a06955f6b",
   "metadata": {},
   "source": [
    "22. Find the difference between two lists."
   ]
  },
  {
   "cell_type": "code",
   "execution_count": 18,
   "id": "f0605f4d-9fe2-45d8-9da8-8db345883747",
   "metadata": {},
   "outputs": [
    {
     "data": {
      "text/plain": [
       "[4, 5]"
      ]
     },
     "execution_count": 18,
     "metadata": {},
     "output_type": "execute_result"
    }
   ],
   "source": [
    "l1 = [1,2,3,4,5,2]\n",
    "l2 = [1,2,3,7,8,1]\n",
    "\n",
    "diff = list(set(l1).difference(l2))\n",
    "diff"
   ]
  },
  {
   "cell_type": "markdown",
   "id": "17196e27-3c91-456a-94ec-24a094bf9ee9",
   "metadata": {},
   "source": [
    "23. Merge two lists."
   ]
  },
  {
   "cell_type": "code",
   "execution_count": 15,
   "id": "442ede3c-b185-4c95-a441-93b08a8543bc",
   "metadata": {},
   "outputs": [
    {
     "data": {
      "text/plain": [
       "[1, 2, 3, 4, 5, 7, 8]"
      ]
     },
     "execution_count": 15,
     "metadata": {},
     "output_type": "execute_result"
    }
   ],
   "source": [
    "l1 = [1,2,3,4,5,2]\n",
    "l2 = [1,2,3,7,8,1]\n",
    "l3 = l1 + l2\n",
    "list(set(l3))"
   ]
  },
  {
   "cell_type": "markdown",
   "id": "2692c973-4fbf-43d3-82c6-f6dd64c72bce",
   "metadata": {},
   "source": [
    "24. Multiply all elements in a list by 2."
   ]
  },
  {
   "cell_type": "code",
   "execution_count": 22,
   "id": "5a48f615-fa72-4f60-8b79-dfdaed405da3",
   "metadata": {},
   "outputs": [
    {
     "name": "stdout",
     "output_type": "stream",
     "text": [
      "[2, 4, 6, 8, 10, 4]\n"
     ]
    }
   ],
   "source": [
    "l1 = [1,2,3,4,5,2]\n",
    "l2=[]\n",
    "for i in range(len(l1)):\n",
    "    l2.append(l1[i]*2)\n",
    "print(l2)"
   ]
  },
  {
   "cell_type": "markdown",
   "id": "25952b90-efe5-457f-b0f4-870809b58bc8",
   "metadata": {},
   "source": [
    "25. Filter out all even numbers from a list."
   ]
  },
  {
   "cell_type": "code",
   "execution_count": 24,
   "id": "4b5cbb6c-cb71-482b-96f7-f5f887fd0a7d",
   "metadata": {},
   "outputs": [
    {
     "name": "stdout",
     "output_type": "stream",
     "text": [
      "[2, 4, 2, 10, 8, 14, 20]\n"
     ]
    }
   ],
   "source": [
    "l1 = [1,2,3,4,5,2,10,8,14,20]\n",
    "even_list=[]\n",
    "for i in range(len(l1)):\n",
    "    if l1[i]%2 == 0:\n",
    "        even_list.append(l1[i])\n",
    "print(even_list)\n",
    "        "
   ]
  },
  {
   "cell_type": "markdown",
   "id": "01b9feb5-6b47-4cad-9999-532a997d374d",
   "metadata": {},
   "source": [
    "26. Convert a list of strings to a list of integers."
   ]
  },
  {
   "cell_type": "code",
   "execution_count": 30,
   "id": "12e1349e-65d0-49ea-a496-968a104b5eeb",
   "metadata": {},
   "outputs": [
    {
     "name": "stdout",
     "output_type": "stream",
     "text": [
      "[1, 2, 3, 4, 5]\n"
     ]
    }
   ],
   "source": [
    "list_ = ['1','2','3','4','5']\n",
    "\n",
    "int_list = [int(i) for i in list_]\n",
    "\n",
    "print(int_list)"
   ]
  },
  {
   "cell_type": "markdown",
   "id": "bf5794f0-2dc0-41e7-90fc-e6df328f2b0c",
   "metadata": {},
   "source": [
    "27. Convert a list of integers to a list of strings."
   ]
  },
  {
   "cell_type": "code",
   "execution_count": 28,
   "id": "aea9c4f5-0b60-40f5-9966-e4388be84686",
   "metadata": {},
   "outputs": [
    {
     "name": "stdout",
     "output_type": "stream",
     "text": [
      "['1', '2', '3', '4', '5', '6', '7', '8', '9', '0']\n"
     ]
    }
   ],
   "source": [
    "list = [1,2,3,4,5,6,7,8,9,0]\n",
    "\n",
    "str_list = [str(i) for i in list]\n",
    "print(str_list)"
   ]
  },
  {
   "cell_type": "markdown",
   "id": "3d4c0c57-197f-48d7-a03a-352dea0ddd21",
   "metadata": {},
   "source": [
    "28. Flatten a nested list."
   ]
  },
  {
   "cell_type": "code",
   "execution_count": 2,
   "id": "4b9614a3-204f-4566-8899-8691a32f3203",
   "metadata": {},
   "outputs": [
    {
     "name": "stdout",
     "output_type": "stream",
     "text": [
      "[1, 2, 3, 4, 5, 6, 7, 8, 9]\n"
     ]
    }
   ],
   "source": [
    "list = [[1, 2, 3], [4, 5], [6, 7, 8, 9]]\n",
    "l = []\n",
    "\n",
    "for i in list:\n",
    "    for j in i:\n",
    "        l.append(j)\n",
    "print(l)\n",
    "    "
   ]
  },
  {
   "cell_type": "markdown",
   "id": "51a4014e-6932-4495-9159-c2e5a73b5fac",
   "metadata": {},
   "source": [
    "29. Create a list of the first 10 Fibonacci numbers."
   ]
  },
  {
   "cell_type": "code",
   "execution_count": 8,
   "id": "2ef4bdac-8875-457c-bbba-32afffc7bfd4",
   "metadata": {},
   "outputs": [
    {
     "name": "stdout",
     "output_type": "stream",
     "text": [
      "0\n",
      "1\n",
      "1\n",
      "2\n",
      "3\n",
      "5\n",
      "8\n",
      "13\n",
      "21\n",
      "34\n"
     ]
    }
   ],
   "source": [
    "x = 0\n",
    "y = 1\n",
    "print(x)\n",
    "print(y)\n",
    "for i in range(8):\n",
    "    z = x+y\n",
    "    x = y\n",
    "    y = z\n",
    "    print(z)"
   ]
  },
  {
   "cell_type": "markdown",
   "id": "b34bc930-efa6-49c6-a2fb-8e361f3892d3",
   "metadata": {},
   "source": [
    "30. Check if a list is sorted."
   ]
  },
  {
   "cell_type": "code",
   "execution_count": 9,
   "id": "fbab2efa-3bb0-4517-be0c-e551c3f8daee",
   "metadata": {},
   "outputs": [
    {
     "name": "stdout",
     "output_type": "stream",
     "text": [
      "not sorted\n"
     ]
    }
   ],
   "source": [
    "list = [1,2,3,6,4,7,9]\n",
    "\n",
    "if list == list.sort():\n",
    "    print(\"sorted\")\n",
    "else:\n",
    "    print(\"not sorted\")"
   ]
  },
  {
   "cell_type": "markdown",
   "id": "9f308f9b-90ee-4235-9739-47041f8e9879",
   "metadata": {},
   "source": [
    "31. Rotate a list to the left by `n` positions."
   ]
  },
  {
   "cell_type": "code",
   "execution_count": 5,
   "id": "879438f4-f9a1-4e87-947f-2bdc5aea7d9c",
   "metadata": {},
   "outputs": [
    {
     "name": "stdout",
     "output_type": "stream",
     "text": [
      "[3, 4, 5, 1, 2]\n"
     ]
    }
   ],
   "source": [
    "def rotate_left(lst, n):\n",
    "    rotated = lst[n:] + lst[:n]\n",
    "    return rotated\n",
    "print(rotate_left([1,2,3,4,5],2))"
   ]
  },
  {
   "cell_type": "markdown",
   "id": "9433108f-d1fb-4dd3-9860-b674dc3cbe0e",
   "metadata": {},
   "source": [
    "32. Rotate a list to the right by `n` positions."
   ]
  },
  {
   "cell_type": "code",
   "execution_count": 7,
   "id": "5c4920c4-f98e-4f96-9e36-a773462eb53b",
   "metadata": {},
   "outputs": [
    {
     "name": "stdout",
     "output_type": "stream",
     "text": [
      "[4, 5, 1, 2, 3]\n"
     ]
    }
   ],
   "source": [
    "def rotate_right(lst, n):\n",
    "    rotated = lst[-n:] + lst[:-n]\n",
    "    return rotated\n",
    "print(rotate_right([1,2,3,4,5],2))"
   ]
  },
  {
   "cell_type": "markdown",
   "id": "c633d2f2-621b-4437-9a57-8ee1a6137e2f",
   "metadata": {},
   "source": [
    "33. Create a list of prime numbers up to 50."
   ]
  },
  {
   "cell_type": "code",
   "execution_count": 1,
   "id": "2422bdda-b39c-4dd4-aa34-7809e5bcef09",
   "metadata": {},
   "outputs": [
    {
     "name": "stdout",
     "output_type": "stream",
     "text": [
      "[2, 3, 5, 7, 11, 13, 17, 19, 23, 29, 31, 37, 41, 43, 47]\n"
     ]
    }
   ],
   "source": [
    "import sympy\n",
    "\n",
    "start = 2\n",
    "end = 50\n",
    "\n",
    "prime_numbers = sympy.primerange(start, end + 1)\n",
    "print(list(prime_numbers))"
   ]
  },
  {
   "cell_type": "markdown",
   "id": "09c892f3-32a8-4765-849b-d20ee1711f5a",
   "metadata": {},
   "source": [
    "34. Split a list into chunks of size `n`."
   ]
  },
  {
   "cell_type": "code",
   "execution_count": 2,
   "id": "26f70549-3d4f-40e3-a385-39b6899ca3f8",
   "metadata": {},
   "outputs": [
    {
     "name": "stdout",
     "output_type": "stream",
     "text": [
      "[[1, 2, 3], [4, 5, 6], [7, 8, 9]]\n"
     ]
    }
   ],
   "source": [
    "def chunk_list(lst, n):\n",
    "    chunked_list = []\n",
    "    for i in range(0, len(lst), n):\n",
    "        chunk = lst[i:i + n]\n",
    "        chunked_list.append(chunk)\n",
    "    return chunked_list\n",
    "\n",
    "my_list = [1, 2, 3, 4, 5, 6, 7, 8, 9]\n",
    "chunk_size = 3\n",
    "\n",
    "result = chunk_list(my_list, chunk_size)\n",
    "print(result)"
   ]
  },
  {
   "cell_type": "markdown",
   "id": "fc714dc3-ed1a-440f-8e9c-5415030dff37",
   "metadata": {},
   "source": [
    "35. Find the second largest number in a list."
   ]
  },
  {
   "cell_type": "code",
   "execution_count": 4,
   "id": "972c7cfb-966d-4c8b-a13e-57b5d620745b",
   "metadata": {},
   "outputs": [
    {
     "name": "stdout",
     "output_type": "stream",
     "text": [
      "300\n"
     ]
    }
   ],
   "source": [
    "def find_second_largest(lst):\n",
    "    unique_sorted = sorted(set(lst))\n",
    "    if len(unique_sorted) < 2:\n",
    "        return \"List has less than two unique elements\"\n",
    "    return unique_sorted[-2]\n",
    "\n",
    "my_list = [100, 200, 300, 410, 250]\n",
    "second_largest = find_second_largest(my_list)\n",
    "print(second_largest)"
   ]
  },
  {
   "cell_type": "markdown",
   "id": "20a6fcce-bedf-47f1-b57d-3ec2ebc4df53",
   "metadata": {},
   "source": [
    "36. Replace every element in a list with its square."
   ]
  },
  {
   "cell_type": "code",
   "execution_count": 5,
   "id": "3b4e8d56-d30e-4526-855b-d29be640f499",
   "metadata": {},
   "outputs": [
    {
     "data": {
      "text/plain": [
       "[4, 16, 36, 64]"
      ]
     },
     "execution_count": 5,
     "metadata": {},
     "output_type": "execute_result"
    }
   ],
   "source": [
    "list = [2,4,6,8]\n",
    "[x**2 for x in list]"
   ]
  },
  {
   "cell_type": "markdown",
   "id": "3b27e4e7-4393-4f0d-9596-42105d3b0783",
   "metadata": {},
   "source": [
    "37. Convert a list to a dictionary where list elements become keys and their\n",
    "indices become values."
   ]
  },
  {
   "cell_type": "code",
   "execution_count": 15,
   "id": "803d81de-5380-4048-bd37-065691f9a832",
   "metadata": {},
   "outputs": [
    {
     "name": "stdout",
     "output_type": "stream",
     "text": [
      "{'sai': 0, 'sky': 1, 'lord': 2}\n"
     ]
    }
   ],
   "source": [
    "list = ['sai','sky','lord']\n",
    "dict_ = {key: value for value, key in enumerate(list)}\n",
    "print(dict_)"
   ]
  },
  {
   "cell_type": "markdown",
   "id": "5c462be9-6660-4b66-91c5-79350913d2de",
   "metadata": {},
   "source": [
    "38. Shuffle the elements of a list randomly."
   ]
  },
  {
   "cell_type": "code",
   "execution_count": 19,
   "id": "ad713e21-dc63-4aa2-9baf-c69dadca905d",
   "metadata": {},
   "outputs": [
    {
     "name": "stdout",
     "output_type": "stream",
     "text": [
      "[3, 4, 6, 1, 5, 2]\n"
     ]
    }
   ],
   "source": [
    "import random\n",
    "my_list = [1,2,3,4,5,6]\n",
    "random.shuffle(my_list)\n",
    "print(my_list)"
   ]
  },
  {
   "cell_type": "markdown",
   "id": "82708def-35ec-4fae-863a-a536e268104d",
   "metadata": {},
   "source": [
    "39. Create a list of the first 10 factorial numbers."
   ]
  },
  {
   "cell_type": "code",
   "execution_count": 23,
   "id": "8ce5739a-32af-42d9-8681-1423de7bfd97",
   "metadata": {},
   "outputs": [
    {
     "name": "stdout",
     "output_type": "stream",
     "text": [
      "[1, 1, 2, 6, 24, 120, 720, 5040, 40320, 362880]\n"
     ]
    }
   ],
   "source": [
    "import math\n",
    "\n",
    "first_10_factorials = [math.factorial(n) for n in range(10)]\n",
    "\n",
    "print(first_10_factorials)"
   ]
  },
  {
   "cell_type": "markdown",
   "id": "5d1c8e83-4688-4ab4-acff-f58234e2a1af",
   "metadata": {},
   "source": [
    "40. Check if two lists have at least one element in common."
   ]
  },
  {
   "cell_type": "code",
   "execution_count": 25,
   "id": "0e9ed6ee-8dda-4e39-a9d4-6cf6c07516f3",
   "metadata": {},
   "outputs": [
    {
     "name": "stdout",
     "output_type": "stream",
     "text": [
      "The two lists have at least one common element.\n"
     ]
    }
   ],
   "source": [
    "list1 = [1, 2, 3, 4, 5]\n",
    "list2 = [5, 6, 7, 8, 9]\n",
    "\n",
    "if any(item in list1 for item in list2):\n",
    "    print(\"The two lists have at least one common element.\")\n",
    "else:\n",
    "    print(\"The two lists do not have any common elements.\")\n"
   ]
  },
  {
   "cell_type": "markdown",
   "id": "a111326a-6c2c-463b-bfb7-6b48a3da8d1c",
   "metadata": {},
   "source": [
    "41. Remove all elements from a list."
   ]
  },
  {
   "cell_type": "code",
   "execution_count": 29,
   "id": "b6c97e21-0259-43b1-84f6-3034d46e9adb",
   "metadata": {},
   "outputs": [
    {
     "data": {
      "text/plain": [
       "[]"
      ]
     },
     "execution_count": 29,
     "metadata": {},
     "output_type": "execute_result"
    }
   ],
   "source": [
    "lst = [1,2,3,4,5]\n",
    "lst.clear()\n",
    "lst"
   ]
  },
  {
   "cell_type": "markdown",
   "id": "082d996f-460c-4caa-8678-c00398bbe08b",
   "metadata": {},
   "source": [
    "42. Replace negative numbers in a list with 0."
   ]
  },
  {
   "cell_type": "code",
   "execution_count": 34,
   "id": "55380ae7-50df-46f2-bae5-7c9d88491a68",
   "metadata": {},
   "outputs": [
    {
     "data": {
      "text/plain": [
       "[1, 2, 0, 4, 0]"
      ]
     },
     "execution_count": 34,
     "metadata": {},
     "output_type": "execute_result"
    }
   ],
   "source": [
    "lst = [1,2,-3,4,-5]\n",
    "\n",
    "modified_list = [x if x >= 0 else 0 for x in lst]\n",
    "modified_list"
   ]
  },
  {
   "cell_type": "markdown",
   "id": "604f44cd-deee-4fd5-a985-e45de5cd2fbe",
   "metadata": {},
   "source": [
    "43. Convert a string into a list of words."
   ]
  },
  {
   "cell_type": "code",
   "execution_count": 45,
   "id": "84c5e0e1-89b8-4a00-9698-126c54563191",
   "metadata": {},
   "outputs": [
    {
     "name": "stdout",
     "output_type": "stream",
     "text": [
      "['This', 'is', 'sai']\n"
     ]
    }
   ],
   "source": [
    "string = \"This is sai\"\n",
    "print(string.split())"
   ]
  },
  {
   "cell_type": "markdown",
   "id": "68af3743-f164-4a9f-bd47-a78c09a33531",
   "metadata": {},
   "source": [
    "44. Convert a list of words into a string."
   ]
  },
  {
   "cell_type": "code",
   "execution_count": 52,
   "id": "7cf2cb28-ba2f-4f75-b7e9-22a4dd2ceb5a",
   "metadata": {},
   "outputs": [
    {
     "data": {
      "text/plain": [
       "'I WE ARE HUMANS'"
      ]
     },
     "execution_count": 52,
     "metadata": {},
     "output_type": "execute_result"
    }
   ],
   "source": [
    "words = ['I','WE','ARE','HUMANS']\n",
    "\n",
    "string = ' '.join(words)\n",
    "string"
   ]
  },
  {
   "cell_type": "markdown",
   "id": "0b550523-ece4-4cf5-b028-fa222d00e89a",
   "metadata": {},
   "source": [
    "45. Create a list of the first `n` powers of 2."
   ]
  },
  {
   "cell_type": "code",
   "execution_count": 57,
   "id": "e073fab3-8020-4ccb-a737-9c42bf66624b",
   "metadata": {},
   "outputs": [
    {
     "data": {
      "text/plain": [
       "[1, 2, 4]"
      ]
     },
     "execution_count": 57,
     "metadata": {},
     "output_type": "execute_result"
    }
   ],
   "source": [
    "n=3\n",
    "list=[]\n",
    "for i in range(0,n):\n",
    "    list.append(2**i)\n",
    "list"
   ]
  },
  {
   "cell_type": "markdown",
   "id": "e6f4f3a0-19fb-4bef-be13-753ae4f843ec",
   "metadata": {},
   "source": [
    "46. Find the longest string in a list of strings."
   ]
  },
  {
   "cell_type": "code",
   "execution_count": 66,
   "id": "aff27c4c-5b55-4c0e-a9b7-fecf9ef65dec",
   "metadata": {},
   "outputs": [
    {
     "data": {
      "text/plain": [
       "'kumar'"
      ]
     },
     "execution_count": 66,
     "metadata": {},
     "output_type": "execute_result"
    }
   ],
   "source": [
    "strings = ['sai','kumar','rama']\n",
    "\n",
    "long_string = ' '\n",
    "for i in strings:\n",
    "    if len(i) > len(long_string):\n",
    "        long_string = i\n",
    "long_string"
   ]
  },
  {
   "cell_type": "markdown",
   "id": "cd48ec5a-5b3c-4de1-af0b-9b87ef02cd4e",
   "metadata": {},
   "source": [
    "47. Find the shortest string in a list of strings."
   ]
  },
  {
   "cell_type": "code",
   "execution_count": 68,
   "id": "a234f32e-7d03-4c2a-a815-99e72689251c",
   "metadata": {},
   "outputs": [
    {
     "data": {
      "text/plain": [
       "'I'"
      ]
     },
     "execution_count": 68,
     "metadata": {},
     "output_type": "execute_result"
    }
   ],
   "source": [
    "strings = ['sai','kumar','rama','I']\n",
    "\n",
    "short_string = strings[0]\n",
    "for i in strings:\n",
    "    if len(i) < len(short_string):\n",
    "        short_string = i\n",
    "short_string"
   ]
  },
  {
   "cell_type": "markdown",
   "id": "93538b2b-b244-4810-a40b-39efe32ed66b",
   "metadata": {},
   "source": [
    "48. Create a list of the first `n` triangular numbers."
   ]
  },
  {
   "cell_type": "code",
   "execution_count": 1,
   "id": "116c22f9-529a-4dc6-9a5a-b954cbbd395c",
   "metadata": {},
   "outputs": [
    {
     "name": "stdout",
     "output_type": "stream",
     "text": [
      "[1, 3, 6, 10, 15, 21, 28, 36, 45, 55]\n"
     ]
    }
   ],
   "source": [
    "def generate_triangular_numbers(n):\n",
    "    triangular_numbers = []\n",
    "    sum_natural_numbers = 0\n",
    "\n",
    "    for i in range(1, n + 1):\n",
    "        sum_natural_numbers += i\n",
    "        triangular_numbers.append(sum_natural_numbers)\n",
    "\n",
    "    return triangular_numbers\n",
    "\n",
    "n = 10\n",
    "triangular_numbers = generate_triangular_numbers(n)\n",
    "print(triangular_numbers)"
   ]
  },
  {
   "cell_type": "markdown",
   "id": "cf0d6457-5ba5-4b1e-91e0-a5d9783dcc39",
   "metadata": {},
   "source": [
    "49. Check if a list contains another list as a subsequence."
   ]
  },
  {
   "cell_type": "code",
   "execution_count": 2,
   "id": "1859f6d7-7fe2-4b09-a2dd-a95a8bc43937",
   "metadata": {},
   "outputs": [
    {
     "name": "stdout",
     "output_type": "stream",
     "text": [
      "sub_list is not a subsequence of main_list.\n"
     ]
    }
   ],
   "source": [
    "main_list = [1, 2, 3, 4, 5, 6, 7, 8, 9]\n",
    "sub_list = [2, 4, 6]\n",
    "is_subsequence = any(main_list[i:i+len(sub_list)] == sub_list for i in range(len(main_list)))\n",
    "if is_subsequence:\n",
    "    print(\"sub_list is a subsequence of main_list.\")\n",
    "else:\n",
    "    print(\"sub_list is not a subsequence of main_list.\")"
   ]
  },
  {
   "cell_type": "markdown",
   "id": "089bf936-b98b-4dbf-bf37-c93ce20da998",
   "metadata": {},
   "source": [
    "50. Swap two elements in a list by their indices."
   ]
  },
  {
   "cell_type": "code",
   "execution_count": 3,
   "id": "2d32dedb-e1ae-441b-94f6-82f31c1dd6d7",
   "metadata": {},
   "outputs": [
    {
     "data": {
      "text/plain": [
       "[1, 2, 5, 4, 3, 6]"
      ]
     },
     "execution_count": 3,
     "metadata": {},
     "output_type": "execute_result"
    }
   ],
   "source": [
    "list = [1,2,3,4,5,6]\n",
    "\n",
    "Ind1 = 2\n",
    "Ind2 = 4\n",
    "\n",
    "temp = list[Ind1]\n",
    "\n",
    "list[Ind1] = list[Ind2]\n",
    "\n",
    "list[Ind2] = temp\n",
    "\n",
    "list"
   ]
  },
  {
   "cell_type": "markdown",
   "id": "208ce745-1209-4f76-a1ef-ea00f40e232f",
   "metadata": {},
   "source": [
    "Tuple Based Practice Problem :"
   ]
  },
  {
   "cell_type": "raw",
   "id": "d9b6bd8e-4c6a-4916-bad0-382c41d4f4d8",
   "metadata": {},
   "source": [
    "1. Create a tuple with integers from 1 to 5."
   ]
  },
  {
   "cell_type": "code",
   "execution_count": 3,
   "id": "877cf2e6-366a-48ee-bc79-8934b96d79bb",
   "metadata": {},
   "outputs": [
    {
     "data": {
      "text/plain": [
       "(1, 2, 3, 4, 5)"
      ]
     },
     "execution_count": 3,
     "metadata": {},
     "output_type": "execute_result"
    }
   ],
   "source": [
    "Tuple = tuple(range(1,6))\n",
    "Tuple"
   ]
  },
  {
   "cell_type": "markdown",
   "id": "46765237-5eea-4520-ae18-e33e7fc513b3",
   "metadata": {},
   "source": [
    "2. Access the third element of a tuple."
   ]
  },
  {
   "cell_type": "code",
   "execution_count": 4,
   "id": "c3f170d7-9336-4fe7-b411-7345f6cd7d0b",
   "metadata": {},
   "outputs": [
    {
     "data": {
      "text/plain": [
       "3"
      ]
     },
     "execution_count": 4,
     "metadata": {},
     "output_type": "execute_result"
    }
   ],
   "source": [
    "Tuple[2]"
   ]
  },
  {
   "cell_type": "markdown",
   "id": "908411a2-9b24-4151-b16d-d48676ebac1b",
   "metadata": {},
   "source": [
    "3. Find the length of a tuple without using the `len()` function."
   ]
  },
  {
   "cell_type": "code",
   "execution_count": 9,
   "id": "a1c53ea8-68f8-4503-9a4c-4af093fca662",
   "metadata": {},
   "outputs": [
    {
     "name": "stdout",
     "output_type": "stream",
     "text": [
      "5\n"
     ]
    }
   ],
   "source": [
    "t = (1,2,3,4,5)\n",
    "\n",
    "for i in t:\n",
    "    a = t.index(i)\n",
    "print(a+1)    "
   ]
  },
  {
   "cell_type": "markdown",
   "id": "c1838b98-c091-4345-a66e-4529f1957639",
   "metadata": {},
   "source": [
    "4. Count the occurrences of an element in a tuple."
   ]
  },
  {
   "cell_type": "code",
   "execution_count": 10,
   "id": "0251b756-4688-47b5-8eae-293814d9e5fa",
   "metadata": {},
   "outputs": [
    {
     "data": {
      "text/plain": [
       "3"
      ]
     },
     "execution_count": 10,
     "metadata": {},
     "output_type": "execute_result"
    }
   ],
   "source": [
    "t = (1,1,2,3,4,4,4,5)\n",
    "t.count(4)"
   ]
  },
  {
   "cell_type": "markdown",
   "id": "a9a362ef-2cca-4f2e-85a7-92a527ad29a8",
   "metadata": {},
   "source": [
    "5. Find the index of the first occurrence of an element in a tuple."
   ]
  },
  {
   "cell_type": "code",
   "execution_count": 11,
   "id": "fc537c6d-0fd3-4b38-8689-89dc21f57c00",
   "metadata": {},
   "outputs": [
    {
     "data": {
      "text/plain": [
       "4"
      ]
     },
     "execution_count": 11,
     "metadata": {},
     "output_type": "execute_result"
    }
   ],
   "source": [
    "t = (1,1,2,3,4,4,4,5)\n",
    "\n",
    "t.index(4)"
   ]
  },
  {
   "cell_type": "markdown",
   "id": "807d9873-07e9-4438-9731-eece88cde7f7",
   "metadata": {},
   "source": [
    "6. Check if an element exists in a tuple."
   ]
  },
  {
   "cell_type": "code",
   "execution_count": 13,
   "id": "ca0eb1cd-0634-459e-a0f9-be6305671728",
   "metadata": {},
   "outputs": [
    {
     "name": "stdout",
     "output_type": "stream",
     "text": [
      "exists\n"
     ]
    }
   ],
   "source": [
    "t = (1,1,2,3,4,4,4,5)\n",
    "\n",
    "element = 5\n",
    "\n",
    "if element in t:\n",
    "    print(\"exists\")\n",
    "else:\n",
    "    print(\"not exists\")"
   ]
  },
  {
   "cell_type": "markdown",
   "id": "e5d993a9-3bb0-43f2-9c98-9017b1f35ea2",
   "metadata": {},
   "source": [
    "7. Convert a tuple to a list."
   ]
  },
  {
   "cell_type": "code",
   "execution_count": 14,
   "id": "2d483779-9e14-4b65-bd9b-2118b521d3d9",
   "metadata": {},
   "outputs": [
    {
     "data": {
      "text/plain": [
       "[1, 1, 2, 3, 4, 4, 4, 5]"
      ]
     },
     "execution_count": 14,
     "metadata": {},
     "output_type": "execute_result"
    }
   ],
   "source": [
    "list(t)"
   ]
  },
  {
   "cell_type": "markdown",
   "id": "7c5cdeeb-edaf-4638-be29-09a4c9f806df",
   "metadata": {},
   "source": [
    "8. Convert a list to a tuple."
   ]
  },
  {
   "cell_type": "code",
   "execution_count": 15,
   "id": "9ab74196-d711-45ae-a3c9-6480089829a9",
   "metadata": {},
   "outputs": [
    {
     "data": {
      "text/plain": [
       "(1, 2, 3)"
      ]
     },
     "execution_count": 15,
     "metadata": {},
     "output_type": "execute_result"
    }
   ],
   "source": [
    "list = [1,2,3]\n",
    "tuple(list)"
   ]
  },
  {
   "cell_type": "markdown",
   "id": "836f6f4a-7d45-4e64-8c11-4b4a3b919427",
   "metadata": {},
   "source": [
    "9. Unpack the elements of a tuple into variables."
   ]
  },
  {
   "cell_type": "code",
   "execution_count": 16,
   "id": "b5ed813a-c159-4716-84c9-bc844b488901",
   "metadata": {},
   "outputs": [
    {
     "name": "stdout",
     "output_type": "stream",
     "text": [
      "1\n",
      "2\n",
      "3\n",
      "4\n",
      "5\n"
     ]
    }
   ],
   "source": [
    "t = (1,2,3,4,5)\n",
    "for i in t:\n",
    "    print(i)"
   ]
  },
  {
   "cell_type": "markdown",
   "id": "12f463c2-bfb1-4b9f-92eb-43691864ce25",
   "metadata": {},
   "source": [
    "10. Create a tuple of even numbers from 1 to 10."
   ]
  },
  {
   "cell_type": "code",
   "execution_count": 20,
   "id": "aa4940fe-766c-49d3-ac30-3b4e2ab8960e",
   "metadata": {},
   "outputs": [
    {
     "data": {
      "text/plain": [
       "(2, 4, 6, 8, 10)"
      ]
     },
     "execution_count": 20,
     "metadata": {},
     "output_type": "execute_result"
    }
   ],
   "source": [
    "tuple(range(2,11,2))"
   ]
  },
  {
   "cell_type": "markdown",
   "id": "1035c60d-c5cc-4207-b761-ead5124ba4fb",
   "metadata": {},
   "source": [
    "11. Create a tuple of odd numbers from 1 to 10."
   ]
  },
  {
   "cell_type": "code",
   "execution_count": 21,
   "id": "6438baf8-f4b5-4fb3-943a-9e5d02f54464",
   "metadata": {},
   "outputs": [
    {
     "data": {
      "text/plain": [
       "(1, 3, 5, 7, 9)"
      ]
     },
     "execution_count": 21,
     "metadata": {},
     "output_type": "execute_result"
    }
   ],
   "source": [
    "tuple(range(1,11,2))"
   ]
  },
  {
   "cell_type": "markdown",
   "id": "bc6da4ce-c32d-4017-8fcd-f2acb61bddf4",
   "metadata": {},
   "source": [
    "12. Concatenate two tuples."
   ]
  },
  {
   "cell_type": "code",
   "execution_count": 22,
   "id": "aab160ea-9e94-4a48-b8b7-f2ae9f46a539",
   "metadata": {},
   "outputs": [
    {
     "data": {
      "text/plain": [
       "(1, 2, 3, 4, 5, 6)"
      ]
     },
     "execution_count": 22,
     "metadata": {},
     "output_type": "execute_result"
    }
   ],
   "source": [
    "t1 =(1,2,3)\n",
    "t2 =(4,5,6)\n",
    "t1 + t2"
   ]
  },
  {
   "cell_type": "markdown",
   "id": "40953920-3156-4113-aeee-50b5def792a0",
   "metadata": {},
   "source": [
    "13. Repeat a tuple three times."
   ]
  },
  {
   "cell_type": "code",
   "execution_count": 23,
   "id": "dfda9808-0b3c-469d-9eb6-b2201b7b4997",
   "metadata": {},
   "outputs": [
    {
     "data": {
      "text/plain": [
       "(1, 2, 3, 1, 2, 3, 1, 2, 3)"
      ]
     },
     "execution_count": 23,
     "metadata": {},
     "output_type": "execute_result"
    }
   ],
   "source": [
    "t1*3"
   ]
  },
  {
   "cell_type": "markdown",
   "id": "ccb5e915-ab85-4945-aec1-b6e2a05117a9",
   "metadata": {},
   "source": [
    "14. Check if a tuple is empty."
   ]
  },
  {
   "cell_type": "code",
   "execution_count": 29,
   "id": "a3a6ea3b-2612-4afb-b2b6-57a48352e4f0",
   "metadata": {},
   "outputs": [
    {
     "name": "stdout",
     "output_type": "stream",
     "text": [
      "The empty_tuple is empty.\n",
      "The non_empty_tuple is not empty.\n"
     ]
    }
   ],
   "source": [
    "empty_tuple = ()\n",
    "non_empty_tuple = (1, 2, 3)\n",
    "if not empty_tuple:\n",
    "    print(\"The empty_tuple is empty.\")\n",
    "else:\n",
    "    print(\"The empty_tuple is not empty.\")\n",
    "if not non_empty_tuple:\n",
    "    print(\"The non_empty_tuple is empty.\")\n",
    "else:\n",
    "    print(\"The non_empty_tuple is not empty.\")"
   ]
  },
  {
   "cell_type": "markdown",
   "id": "059e14e1-8401-4ac2-8cda-fd166b1510d5",
   "metadata": {},
   "source": [
    "15. Create a nested tuple."
   ]
  },
  {
   "cell_type": "code",
   "execution_count": 36,
   "id": "99db5ce7-9381-49eb-aa24-9efa7c38960f",
   "metadata": {},
   "outputs": [
    {
     "data": {
      "text/plain": [
       "((1, 2, 3), (5, 6, 7))"
      ]
     },
     "execution_count": 36,
     "metadata": {},
     "output_type": "execute_result"
    }
   ],
   "source": [
    "t = ((1,2,3),(5,6,7))\n",
    "t"
   ]
  },
  {
   "cell_type": "markdown",
   "id": "35455227-1908-43aa-91b5-ca2388758b8f",
   "metadata": {},
   "source": [
    "16. Access the first element of a nested tuple."
   ]
  },
  {
   "cell_type": "code",
   "execution_count": 37,
   "id": "1d0d4f44-7813-49d7-8685-5dec409fbf67",
   "metadata": {},
   "outputs": [
    {
     "data": {
      "text/plain": [
       "(1, 2, 3)"
      ]
     },
     "execution_count": 37,
     "metadata": {},
     "output_type": "execute_result"
    }
   ],
   "source": [
    "t = ((1,2,3),(5,6,7))\n",
    "t[0]"
   ]
  },
  {
   "cell_type": "markdown",
   "id": "b4e4df3e-e567-4ac4-8bf1-2f90b5983857",
   "metadata": {},
   "source": [
    "17. Create a tuple with a single element."
   ]
  },
  {
   "cell_type": "code",
   "execution_count": 39,
   "id": "bd4cdee9-dc79-404f-acb5-49ab73c18b9c",
   "metadata": {},
   "outputs": [
    {
     "data": {
      "text/plain": [
       "(1,)"
      ]
     },
     "execution_count": 39,
     "metadata": {},
     "output_type": "execute_result"
    }
   ],
   "source": [
    "t = (1,)\n",
    "t"
   ]
  },
  {
   "cell_type": "markdown",
   "id": "de035dea-4b5b-4ae7-858d-6574c8e86e4d",
   "metadata": {},
   "source": [
    "18. Compare two tuples."
   ]
  },
  {
   "cell_type": "code",
   "execution_count": 43,
   "id": "18a24d30-cc67-4c58-8861-cb9528b9a8dc",
   "metadata": {},
   "outputs": [
    {
     "name": "stdout",
     "output_type": "stream",
     "text": [
      "False\n",
      "True\n",
      "True\n",
      "False\n",
      "False\n",
      "True\n"
     ]
    }
   ],
   "source": [
    "t1 = (1, 2, 3)\n",
    "t2 = (6, 5, 4)\n",
    "\n",
    "print(t1==t2)\n",
    "print(t1!=t2)\n",
    "print(t1<t2)\n",
    "print(t1>t2)\n",
    "print(t1>=t2)\n",
    "print(t1<=t2)"
   ]
  },
  {
   "cell_type": "markdown",
   "id": "244cfadd-5331-4510-8a5b-1215ff3fdd84",
   "metadata": {},
   "source": [
    "19. Delete a tuple."
   ]
  },
  {
   "cell_type": "code",
   "execution_count": 47,
   "id": "f1c5b2ee-c287-49f3-b585-9d7db9aa13e6",
   "metadata": {},
   "outputs": [],
   "source": [
    "t = (1,2,3,4,5,6)\n",
    "del t"
   ]
  },
  {
   "cell_type": "markdown",
   "id": "9ee9bae2-5e24-4f12-a809-21f8b8758294",
   "metadata": {},
   "source": [
    "20. Slice a tuple."
   ]
  },
  {
   "cell_type": "code",
   "execution_count": 57,
   "id": "8a905295-2632-421a-8940-2da932b44b61",
   "metadata": {},
   "outputs": [
    {
     "name": "stdout",
     "output_type": "stream",
     "text": [
      "3\n",
      "(3, 4, 5)\n",
      "(6, 5, 4, 3, 2, 1)\n",
      "()\n"
     ]
    }
   ],
   "source": [
    "t = (1,2,3,4,5,6)\n",
    "print(t[2])\n",
    "print(t[2:5])\n",
    "print(t[::-1])\n",
    "print(t[1:5:-1])"
   ]
  },
  {
   "cell_type": "markdown",
   "id": "e7c9d12c-01cb-4e54-9885-04b7c034105e",
   "metadata": {},
   "source": [
    "21. Find the maximum value in a tuple."
   ]
  },
  {
   "cell_type": "code",
   "execution_count": 58,
   "id": "e75dfb4d-492c-4215-8d4e-c8e99ec4de69",
   "metadata": {},
   "outputs": [
    {
     "data": {
      "text/plain": [
       "3"
      ]
     },
     "execution_count": 58,
     "metadata": {},
     "output_type": "execute_result"
    }
   ],
   "source": [
    "t = (1,2,3)\n",
    "max(t)"
   ]
  },
  {
   "cell_type": "markdown",
   "id": "903ad439-bbc6-4bd4-8316-0a7991c6e844",
   "metadata": {},
   "source": [
    "22. Find the minimum value in a tuple."
   ]
  },
  {
   "cell_type": "code",
   "execution_count": 61,
   "id": "699182e1-692b-4cd3-9cee-942339977207",
   "metadata": {},
   "outputs": [
    {
     "data": {
      "text/plain": [
       "1"
      ]
     },
     "execution_count": 61,
     "metadata": {},
     "output_type": "execute_result"
    }
   ],
   "source": [
    "t = (1,2,3)\n",
    "min(t)"
   ]
  },
  {
   "cell_type": "markdown",
   "id": "16702c79-bbfb-4de4-8116-e4b00aaf21a2",
   "metadata": {},
   "source": [
    "23. Convert a string to a tuple of characters."
   ]
  },
  {
   "cell_type": "code",
   "execution_count": 64,
   "id": "a60d2fb4-d940-424a-bc99-9f9eca829a79",
   "metadata": {},
   "outputs": [
    {
     "data": {
      "text/plain": [
       "('I', ' ', 'a', 'm', ' ', 'S', 'a', 'i')"
      ]
     },
     "execution_count": 64,
     "metadata": {},
     "output_type": "execute_result"
    }
   ],
   "source": [
    "string = \"I am Sai\"\n",
    "char = tuple(string)\n",
    "char"
   ]
  },
  {
   "cell_type": "markdown",
   "id": "7d4f840e-a1bb-41ce-9718-1c135d88c56d",
   "metadata": {},
   "source": [
    "24. Convert a tuple of characters to a string."
   ]
  },
  {
   "cell_type": "code",
   "execution_count": 66,
   "id": "cb7e6429-f240-4793-8bea-dd43186fcb9a",
   "metadata": {},
   "outputs": [
    {
     "data": {
      "text/plain": [
       "'I am Sai'"
      ]
     },
     "execution_count": 66,
     "metadata": {},
     "output_type": "execute_result"
    }
   ],
   "source": [
    "''.join(char)"
   ]
  },
  {
   "cell_type": "markdown",
   "id": "c4e3f215-ae42-4a6c-8c0c-a07ea3202ba9",
   "metadata": {},
   "source": [
    "25. Create a tuple from multiple data types."
   ]
  },
  {
   "cell_type": "code",
   "execution_count": 69,
   "id": "1c0d4fd9-655d-4e1d-ba86-3f324d29ecb3",
   "metadata": {},
   "outputs": [
    {
     "data": {
      "text/plain": [
       "(1, 2, 'sai', True, 12.34, (1+1j), [1, 2, 3])"
      ]
     },
     "execution_count": 69,
     "metadata": {},
     "output_type": "execute_result"
    }
   ],
   "source": [
    "t = (1,2,\"sai\",True,12.34, 1+1j, [1,2,3])\n",
    "t"
   ]
  },
  {
   "cell_type": "markdown",
   "id": "8fd2d911-f477-42e4-a4d2-819f8b8327d9",
   "metadata": {},
   "source": [
    "26. Check if two tuples are identical."
   ]
  },
  {
   "cell_type": "code",
   "execution_count": 71,
   "id": "b9110d78-1df9-41bf-a65b-d07b9812463c",
   "metadata": {},
   "outputs": [
    {
     "data": {
      "text/plain": [
       "True"
      ]
     },
     "execution_count": 71,
     "metadata": {},
     "output_type": "execute_result"
    }
   ],
   "source": [
    "t1 = (1,2,3)\n",
    "t2 = (1,2,3)\n",
    "\n",
    "t1 == t2"
   ]
  },
  {
   "cell_type": "markdown",
   "id": "a35a0279-663f-4742-9a98-aa73bd72162b",
   "metadata": {},
   "source": [
    "27. Sort the elements of a tuple."
   ]
  },
  {
   "cell_type": "code",
   "execution_count": 6,
   "id": "5e3f8428-354e-410b-a69f-273b2552d827",
   "metadata": {},
   "outputs": [
    {
     "data": {
      "text/plain": [
       "(1, 2, 3, 4, 7, 9, 56, 78)"
      ]
     },
     "execution_count": 6,
     "metadata": {},
     "output_type": "execute_result"
    }
   ],
   "source": [
    "t = (1,2,3,4,7,9,56,78)\n",
    "l = list(t)\n",
    "l.sort()\n",
    "tuple(l)"
   ]
  },
  {
   "cell_type": "markdown",
   "id": "435f4713-1022-465f-a395-b35f750800dd",
   "metadata": {},
   "source": [
    "28. Convert a tuple of integers to a tuple of strings."
   ]
  },
  {
   "cell_type": "code",
   "execution_count": 13,
   "id": "5edad2a2-91bb-4111-985e-30393ad15580",
   "metadata": {},
   "outputs": [
    {
     "data": {
      "text/plain": [
       "('1', '2', '3', '4')"
      ]
     },
     "execution_count": 13,
     "metadata": {},
     "output_type": "execute_result"
    }
   ],
   "source": [
    "t = (1,2,3,4)\n",
    "l = []\n",
    "for i in t:\n",
    "    l.append(str(i))\n",
    "tuple(l)"
   ]
  },
  {
   "cell_type": "markdown",
   "id": "34c21736-4551-4858-a903-b3a6a7581227",
   "metadata": {},
   "source": [
    "29. Convert a tuple of strings to a tuple of integers."
   ]
  },
  {
   "cell_type": "code",
   "execution_count": 14,
   "id": "1fab9c09-08d8-4c69-b904-d00f9253c446",
   "metadata": {},
   "outputs": [
    {
     "data": {
      "text/plain": [
       "(1, 2, 3, 4)"
      ]
     },
     "execution_count": 14,
     "metadata": {},
     "output_type": "execute_result"
    }
   ],
   "source": [
    "t = ('1', '2', '3', '4')\n",
    "l = []\n",
    "for i in t:\n",
    "    l.append(int(i))\n",
    "tuple(l)"
   ]
  },
  {
   "cell_type": "markdown",
   "id": "048bee99-c8f5-4e63-8256-6bc39353066f",
   "metadata": {},
   "source": [
    "30. Merge two tuples."
   ]
  },
  {
   "cell_type": "code",
   "execution_count": 15,
   "id": "00846904-dceb-4b4b-a94b-f612ac62fa54",
   "metadata": {},
   "outputs": [
    {
     "data": {
      "text/plain": [
       "(1, 2, 3, 4)"
      ]
     },
     "execution_count": 15,
     "metadata": {},
     "output_type": "execute_result"
    }
   ],
   "source": [
    "t1 = (1,2)\n",
    "t2 = (3,4)\n",
    "t1 + t2"
   ]
  },
  {
   "cell_type": "markdown",
   "id": "8613d665-b0c1-45a8-8b1b-69f68e366393",
   "metadata": {},
   "source": [
    "31. Flatten a nested tuple."
   ]
  },
  {
   "cell_type": "code",
   "execution_count": 18,
   "id": "79ccf0c5-0c15-4f43-b7f0-bf9d7144b045",
   "metadata": {},
   "outputs": [
    {
     "data": {
      "text/plain": [
       "(1, 2, 3, 2, 3, 4)"
      ]
     },
     "execution_count": 18,
     "metadata": {},
     "output_type": "execute_result"
    }
   ],
   "source": [
    "t=((1,2,3),(2,3,4))\n",
    "l = []\n",
    "for i in t:\n",
    "    for j in i:\n",
    "        l.append(j)\n",
    "tuple(l)"
   ]
  },
  {
   "cell_type": "markdown",
   "id": "eb766440-468d-44fb-9e49-03da804d7767",
   "metadata": {},
   "source": [
    "32. Create a tuple of the first 5 prime numbers."
   ]
  },
  {
   "cell_type": "code",
   "execution_count": 21,
   "id": "e27dd928-b285-4f9d-b724-6715548c9b81",
   "metadata": {},
   "outputs": [
    {
     "data": {
      "text/plain": [
       "(2, 3, 5)"
      ]
     },
     "execution_count": 21,
     "metadata": {},
     "output_type": "execute_result"
    }
   ],
   "source": [
    "import sympy\n",
    "\n",
    "prime = sympy.primerange(0,6)\n",
    "tuple(prime)"
   ]
  },
  {
   "cell_type": "markdown",
   "id": "684ed312-26bc-4879-86e7-1d0c7609af28",
   "metadata": {},
   "source": [
    "33. Check if a tuple is a palindrome."
   ]
  },
  {
   "cell_type": "code",
   "execution_count": 22,
   "id": "a14e80c7-ba0a-476f-bf59-31882558ecab",
   "metadata": {},
   "outputs": [
    {
     "name": "stdout",
     "output_type": "stream",
     "text": [
      "given tuple is palindrome\n"
     ]
    }
   ],
   "source": [
    "t = (1,2,3,2,1)\n",
    "if t[::1] == t[::-1]:\n",
    "    print(\"given tuple is palindrome\")\n",
    "else:\n",
    "    print(\"Not a palindrome\")"
   ]
  },
  {
   "cell_type": "markdown",
   "id": "8fc56502-ec36-46a6-a3f9-df6879ed8581",
   "metadata": {},
   "source": [
    "34. Create a tuple of squares of numbers from 1 to 5."
   ]
  },
  {
   "cell_type": "code",
   "execution_count": 26,
   "id": "ffb7e615-0d4a-4324-8bcb-d8c71067e596",
   "metadata": {},
   "outputs": [
    {
     "data": {
      "text/plain": [
       "(1, 4, 9, 16, 25)"
      ]
     },
     "execution_count": 26,
     "metadata": {},
     "output_type": "execute_result"
    }
   ],
   "source": [
    "t = (1,2,3,4,5)\n",
    "sq = (x**2 for x in t)\n",
    "tuple(sq)"
   ]
  },
  {
   "cell_type": "markdown",
   "id": "f1025fd4-4a18-4b44-8e6d-2c20a46505fb",
   "metadata": {},
   "source": [
    "35. Filter out all even numbers from a tuple."
   ]
  },
  {
   "cell_type": "code",
   "execution_count": 30,
   "id": "50915403-6f49-4430-a6fb-ff513119a05f",
   "metadata": {},
   "outputs": [
    {
     "data": {
      "text/plain": [
       "(2, 4, 6, 8)"
      ]
     },
     "execution_count": 30,
     "metadata": {},
     "output_type": "execute_result"
    }
   ],
   "source": [
    "t = (1,2,3,4,5,6,7,8,9)\n",
    "even = [x for x in t if x % 2 == 0]\n",
    "tuple(even)"
   ]
  },
  {
   "cell_type": "markdown",
   "id": "a88bcfff-8d10-47c0-9c99-91f96ab84520",
   "metadata": {},
   "source": [
    "36. Multiply all elements in a tuple by 2."
   ]
  },
  {
   "cell_type": "code",
   "execution_count": 31,
   "id": "db9367fa-ffa4-4249-9896-3311b39b2852",
   "metadata": {},
   "outputs": [
    {
     "data": {
      "text/plain": [
       "(2, 4, 6, 8, 10, 12)"
      ]
     },
     "execution_count": 31,
     "metadata": {},
     "output_type": "execute_result"
    }
   ],
   "source": [
    "t =(1,2,3,4,5,6)\n",
    "mul = [x*2 for x in t]\n",
    "tuple(mul)"
   ]
  },
  {
   "cell_type": "markdown",
   "id": "adc09119-5bd6-4a1c-bb49-b13dd1a0555c",
   "metadata": {},
   "source": [
    "37. Create a tuple of random numbers."
   ]
  },
  {
   "cell_type": "code",
   "execution_count": 39,
   "id": "2b2073a7-27b6-4284-ac0d-38f4c99588e0",
   "metadata": {},
   "outputs": [
    {
     "data": {
      "text/plain": [
       "(91, 37, 56, 6, 82, 85, 81, 23, 32, 86)"
      ]
     },
     "execution_count": 39,
     "metadata": {},
     "output_type": "execute_result"
    }
   ],
   "source": [
    "import random\n",
    "\n",
    "ran = ( random.randint(1,100) for i in range(10) )\n",
    "tuple(ran)"
   ]
  },
  {
   "cell_type": "markdown",
   "id": "c143d7f7-3b7c-4c73-a56c-b556d7ed553a",
   "metadata": {},
   "source": [
    "38. Check if a tuple is sorted."
   ]
  },
  {
   "cell_type": "code",
   "execution_count": 41,
   "id": "d187fee7-5c00-4cfc-aefe-a8691c6a29c2",
   "metadata": {},
   "outputs": [
    {
     "name": "stdout",
     "output_type": "stream",
     "text": [
      "True\n"
     ]
    }
   ],
   "source": [
    "t = (1, 2, 3, 4, 5)\n",
    "# check if tuple is sorted\n",
    "print(t == tuple(sorted(t)))"
   ]
  },
  {
   "cell_type": "markdown",
   "id": "ddba8541-e020-4367-82ac-724206cec22c",
   "metadata": {},
   "source": [
    "39. Rotate a tuple to the left by `n` positions."
   ]
  },
  {
   "cell_type": "code",
   "execution_count": 47,
   "id": "697a1ddd-7b36-4b7c-9447-1d9ac6751f57",
   "metadata": {},
   "outputs": [
    {
     "name": "stdout",
     "output_type": "stream",
     "text": [
      "(3, 4, 5, 1, 2)\n"
     ]
    }
   ],
   "source": [
    "t = (1,2,3,4,5)\n",
    "n = 2\n",
    "print(t[n:] + t[:n])\n"
   ]
  },
  {
   "cell_type": "markdown",
   "id": "d70b20f7-5bc5-42e6-abe3-4f3f80a51e1f",
   "metadata": {},
   "source": [
    "40. Rotate a tuple to the right by `n` positions."
   ]
  },
  {
   "cell_type": "code",
   "execution_count": 53,
   "id": "c116cd99-f692-4a6a-a735-2e8b135a2af7",
   "metadata": {},
   "outputs": [
    {
     "name": "stdout",
     "output_type": "stream",
     "text": [
      "(4, 5, 1, 2, 3)\n"
     ]
    }
   ],
   "source": [
    "t = (1,2,3,4,5)\n",
    "n=2\n",
    "\n",
    "print(t[-n:] + t[:-n])"
   ]
  },
  {
   "cell_type": "markdown",
   "id": "a5e7cf2e-f219-4bf5-a9ab-908f4e4c91ec",
   "metadata": {},
   "source": [
    "41. Create a tuple of the first 5 Fibonacci numbers."
   ]
  },
  {
   "cell_type": "code",
   "execution_count": 57,
   "id": "fe8eec0e-5cef-4130-95c4-cf4470ee066b",
   "metadata": {},
   "outputs": [
    {
     "name": "stdout",
     "output_type": "stream",
     "text": [
      "5 8\n"
     ]
    }
   ],
   "source": [
    "x = 0\n",
    "y = 1\n",
    "l=[]\n",
    "for i in range(5):\n",
    "    z = x + y\n",
    "    \n",
    "    x = y\n",
    "    y = z\n",
    "    z\n",
    "print(x,y,tuple(l))"
   ]
  },
  {
   "cell_type": "markdown",
   "id": "8efdf58d-17bf-483e-b140-bc6eb663ce95",
   "metadata": {},
   "source": [
    "42. Create a tuple from user input."
   ]
  },
  {
   "cell_type": "code",
   "execution_count": 9,
   "id": "85bc794f-a439-47f6-9df7-4dd24d101cc3",
   "metadata": {},
   "outputs": [
    {
     "name": "stdin",
     "output_type": "stream",
     "text": [
      "Enter a tuple: 1,2,3,4,5\n"
     ]
    },
    {
     "name": "stdout",
     "output_type": "stream",
     "text": [
      "('1', '2', '3', '4', '5')\n"
     ]
    }
   ],
   "source": [
    "User = input(\"Enter a tuple:\" )\n",
    "a  =  User.split(',')\n",
    "print(tuple(a))"
   ]
  },
  {
   "cell_type": "markdown",
   "id": "cb8e6ced-11a2-4f68-a73f-c914a0bc6592",
   "metadata": {},
   "source": [
    "43. Swap two elements in a tuple."
   ]
  },
  {
   "cell_type": "code",
   "execution_count": 13,
   "id": "0fae8dd1-99b8-4f28-9bea-1ccb2795e076",
   "metadata": {},
   "outputs": [
    {
     "data": {
      "text/plain": [
       "[2, 1, 3, 4, 5]"
      ]
     },
     "execution_count": 13,
     "metadata": {},
     "output_type": "execute_result"
    }
   ],
   "source": [
    "t = (1,2,3,4,5)\n",
    "\n",
    "t = list(t)\n",
    "\n",
    "temp = t[1]\n",
    "\n",
    "t[1] = t[0]\n",
    "\n",
    "t[0] = temp\n",
    "\n",
    "t"
   ]
  },
  {
   "cell_type": "markdown",
   "id": "2034cbcc-7d24-4ef2-a89a-3ff5daf8d1ff",
   "metadata": {},
   "source": [
    "44. Reverse the elements of a tuple."
   ]
  },
  {
   "cell_type": "code",
   "execution_count": 15,
   "id": "9723f4c1-f3a9-4c93-af7c-39f81c1a3fb5",
   "metadata": {},
   "outputs": [
    {
     "data": {
      "text/plain": [
       "[4, 3, 2, 1]"
      ]
     },
     "execution_count": 15,
     "metadata": {},
     "output_type": "execute_result"
    }
   ],
   "source": [
    "t = (1,2,3,4)\n",
    "t = list(t)\n",
    "t.reverse()\n",
    "t"
   ]
  },
  {
   "cell_type": "markdown",
   "id": "98b0f335-6919-4b35-b134-860158cf8f17",
   "metadata": {},
   "source": [
    "45. Create a tuple of the first `n` powers of 2."
   ]
  },
  {
   "cell_type": "code",
   "execution_count": 17,
   "id": "b0103789-e02e-44a9-a69b-3a1f542c3935",
   "metadata": {},
   "outputs": [
    {
     "name": "stdin",
     "output_type": "stream",
     "text": [
      " 5\n"
     ]
    },
    {
     "data": {
      "text/plain": [
       "(1, 2, 4, 8, 16, 32)"
      ]
     },
     "execution_count": 17,
     "metadata": {},
     "output_type": "execute_result"
    }
   ],
   "source": [
    "n = int(input())\n",
    "powers_of_2 = tuple([2**n for n in range(0,n+1)])\n",
    "powers_of_2"
   ]
  },
  {
   "cell_type": "markdown",
   "id": "1bf0ff18-3643-4edc-969e-e47489fed55f",
   "metadata": {},
   "source": [
    "46. Find the longest string in a tuple of strings."
   ]
  },
  {
   "cell_type": "code",
   "execution_count": 18,
   "id": "a4a5bba2-0473-4f63-8cca-38b836d26ad0",
   "metadata": {},
   "outputs": [
    {
     "data": {
      "text/plain": [
       "'saikumar'"
      ]
     },
     "execution_count": 18,
     "metadata": {},
     "output_type": "execute_result"
    }
   ],
   "source": [
    "t = ('sai','kumar','saikumar')\n",
    "\n",
    "max_string = max(t,key=len)\n",
    "max_string"
   ]
  },
  {
   "cell_type": "markdown",
   "id": "a6345919-2d63-4137-a56e-6f0d1ae34ba1",
   "metadata": {},
   "source": [
    "47. Find the shortest string in a tuple of strings."
   ]
  },
  {
   "cell_type": "code",
   "execution_count": 19,
   "id": "7f29d8f6-2829-4472-9e68-f10a1b453822",
   "metadata": {},
   "outputs": [
    {
     "data": {
      "text/plain": [
       "'sai'"
      ]
     },
     "execution_count": 19,
     "metadata": {},
     "output_type": "execute_result"
    }
   ],
   "source": [
    "t = ('sai','kumar','saikumar')\n",
    "\n",
    "min_string = min(t,key=len)\n",
    "min_string"
   ]
  },
  {
   "cell_type": "markdown",
   "id": "24a1f23e-0bb7-4021-95a3-e94ff113e7bd",
   "metadata": {},
   "source": [
    "48. Create a tuple of the first `n` triangular numbers."
   ]
  },
  {
   "cell_type": "code",
   "execution_count": 5,
   "id": "f8e265cd-b3f7-4b88-b9f5-ad59b2cc92ed",
   "metadata": {},
   "outputs": [
    {
     "data": {
      "text/plain": [
       "(1, 3, 6)"
      ]
     },
     "execution_count": 5,
     "metadata": {},
     "output_type": "execute_result"
    }
   ],
   "source": [
    "n = 3\n",
    "\n",
    "triangular_num = tuple([(i*(i+1)) // 2 for i in range(1,n+1)])\n",
    "triangular_num"
   ]
  },
  {
   "cell_type": "markdown",
   "id": "edb1cdcf-af4c-42d3-afcb-665802b9c22a",
   "metadata": {},
   "source": [
    "49. Check if a tuple contains another tuple as a subsequence."
   ]
  },
  {
   "cell_type": "code",
   "execution_count": 7,
   "id": "78fdf9fb-9819-40b3-90f8-75868faf9ed5",
   "metadata": {},
   "outputs": [
    {
     "data": {
      "text/plain": [
       "True"
      ]
     },
     "execution_count": 7,
     "metadata": {},
     "output_type": "execute_result"
    }
   ],
   "source": [
    "t1 = (1,2,3,4,5)\n",
    "\n",
    "t2 = (2,3,4)\n",
    "\n",
    "result = set(t2).issubset(t1)\n",
    "result"
   ]
  },
  {
   "cell_type": "markdown",
   "id": "912cb150-16cf-48ee-9e51-33f249ffe02c",
   "metadata": {},
   "source": [
    "50. Create a tuple of alternating 1s and 0s of length `n`."
   ]
  },
  {
   "cell_type": "code",
   "execution_count": 11,
   "id": "5ea43b4b-3aba-44e3-8f57-c7aec6f62478",
   "metadata": {},
   "outputs": [
    {
     "data": {
      "text/plain": [
       "[0, 1, 0, 1, 0, 1, 0, 1, 0, 1]"
      ]
     },
     "execution_count": 11,
     "metadata": {},
     "output_type": "execute_result"
    }
   ],
   "source": [
    "n = 10\n",
    "\n",
    "[1 if i %2 == 0 else 0 for i in range(1,n+1)]"
   ]
  },
  {
   "cell_type": "markdown",
   "id": "f134ab85-f5f3-4c8f-b617-8112cca394a0",
   "metadata": {},
   "source": [
    "Set Based Practice Problem :"
   ]
  },
  {
   "cell_type": "markdown",
   "id": "cf2778cb-5202-4135-b07f-9adcd8b5586b",
   "metadata": {},
   "source": [
    "1. Create a set with integers from 1 to 5."
   ]
  },
  {
   "cell_type": "code",
   "execution_count": 29,
   "id": "1a5d2e06-a5ef-468c-8c87-261d1912d36e",
   "metadata": {},
   "outputs": [
    {
     "data": {
      "text/plain": [
       "{1, 2, 3, 4, 5}"
      ]
     },
     "execution_count": 29,
     "metadata": {},
     "output_type": "execute_result"
    }
   ],
   "source": [
    "s = set(range(1,6))\n",
    "s"
   ]
  },
  {
   "cell_type": "markdown",
   "id": "d70de7a0-41c7-4197-90b8-0ea8eb9e508b",
   "metadata": {},
   "source": [
    "2. Add an element to a set."
   ]
  },
  {
   "cell_type": "code",
   "execution_count": 30,
   "id": "0295e1b4-9180-4f4f-bd70-bccdf6ee41af",
   "metadata": {},
   "outputs": [],
   "source": [
    "s.add(6)"
   ]
  },
  {
   "cell_type": "code",
   "execution_count": 31,
   "id": "ef55cca2-4ee6-46f8-a991-ccbbb958ee8f",
   "metadata": {},
   "outputs": [
    {
     "data": {
      "text/plain": [
       "{1, 2, 3, 4, 5, 6}"
      ]
     },
     "execution_count": 31,
     "metadata": {},
     "output_type": "execute_result"
    }
   ],
   "source": [
    "s"
   ]
  },
  {
   "cell_type": "markdown",
   "id": "2d5a4d8d-0e8c-4e9a-b1ea-ef0d3e003308",
   "metadata": {},
   "source": [
    "3. Remove an element from a set."
   ]
  },
  {
   "cell_type": "code",
   "execution_count": 32,
   "id": "d6afeb90-558c-494e-b10e-2a36bdd52111",
   "metadata": {},
   "outputs": [],
   "source": [
    "s.remove(6)"
   ]
  },
  {
   "cell_type": "code",
   "execution_count": 33,
   "id": "0bd3aad3-4eb5-487c-8fa0-f323548c42d7",
   "metadata": {},
   "outputs": [
    {
     "data": {
      "text/plain": [
       "{1, 2, 3, 4, 5}"
      ]
     },
     "execution_count": 33,
     "metadata": {},
     "output_type": "execute_result"
    }
   ],
   "source": [
    "s"
   ]
  },
  {
   "cell_type": "markdown",
   "id": "c790d7b6-93bb-4078-9a00-1abd4d88b9cd",
   "metadata": {},
   "source": [
    "4. Check if an element exists in a set."
   ]
  },
  {
   "cell_type": "code",
   "execution_count": 37,
   "id": "271269ad-8949-44e1-9a29-acb1d9f23519",
   "metadata": {},
   "outputs": [
    {
     "name": "stdout",
     "output_type": "stream",
     "text": [
      "no\n"
     ]
    }
   ],
   "source": [
    "if 10 in s:\n",
    "    print(\"yes\")\n",
    "else:\n",
    "    print(\"no\")"
   ]
  },
  {
   "cell_type": "markdown",
   "id": "683d2488-2c5d-4634-99f8-44f9ad60f145",
   "metadata": {},
   "source": [
    "5. Find the length of a set without using the `len()` function."
   ]
  },
  {
   "cell_type": "code",
   "execution_count": 39,
   "id": "eee07dd1-defd-4b63-b50f-8a280e50bc85",
   "metadata": {},
   "outputs": [
    {
     "data": {
      "text/plain": [
       "9"
      ]
     },
     "execution_count": 39,
     "metadata": {},
     "output_type": "execute_result"
    }
   ],
   "source": [
    "s = {1,2,3,4,5,6,7,8,9}\n",
    "length = 0\n",
    "for i in s:\n",
    "    length = length + 1\n",
    "length"
   ]
  },
  {
   "cell_type": "markdown",
   "id": "9d771237-66bc-4e3f-b42a-29412af15912",
   "metadata": {},
   "source": [
    "6. Clear all elements from a set."
   ]
  },
  {
   "cell_type": "code",
   "execution_count": 40,
   "id": "e79e5616-073f-44dd-b208-180050f48cc6",
   "metadata": {},
   "outputs": [
    {
     "data": {
      "text/plain": [
       "set()"
      ]
     },
     "execution_count": 40,
     "metadata": {},
     "output_type": "execute_result"
    }
   ],
   "source": [
    "s.clear()\n",
    "s"
   ]
  },
  {
   "cell_type": "markdown",
   "id": "efd6d4c4-170d-46af-a26f-ea00868cc719",
   "metadata": {},
   "source": [
    "7. Create a set of even numbers from 1 to 10."
   ]
  },
  {
   "cell_type": "code",
   "execution_count": 41,
   "id": "143841da-c4fd-4bbb-a8dd-3dab0d2423e5",
   "metadata": {},
   "outputs": [
    {
     "data": {
      "text/plain": [
       "{2, 4, 6, 8, 10}"
      ]
     },
     "execution_count": 41,
     "metadata": {},
     "output_type": "execute_result"
    }
   ],
   "source": [
    "even = {x for x in range(2,11,2)}\n",
    "even"
   ]
  },
  {
   "cell_type": "markdown",
   "id": "11f7e544-fc66-4bb9-84d8-27141d752cf0",
   "metadata": {},
   "source": [
    "8. Create a set of odd numbers from 1 to 10."
   ]
  },
  {
   "cell_type": "code",
   "execution_count": 2,
   "id": "2d8c8555-4774-41fa-b30d-f8d612b21f6f",
   "metadata": {},
   "outputs": [
    {
     "data": {
      "text/plain": [
       "{1, 3, 5, 7, 9, 11}"
      ]
     },
     "execution_count": 2,
     "metadata": {},
     "output_type": "execute_result"
    }
   ],
   "source": [
    "odd = {x for x in range(1,12,2)}\n",
    "odd"
   ]
  },
  {
   "cell_type": "markdown",
   "id": "f0f7c2ad-3b23-46d9-afcd-1a6dcf5267c7",
   "metadata": {},
   "source": [
    "9. Find the union of two sets."
   ]
  },
  {
   "cell_type": "code",
   "execution_count": 3,
   "id": "966cf48f-9368-4be5-847c-40f438576b59",
   "metadata": {},
   "outputs": [
    {
     "data": {
      "text/plain": [
       "{1, 2, 3, 4, 5, 6, 7, 12}"
      ]
     },
     "execution_count": 3,
     "metadata": {},
     "output_type": "execute_result"
    }
   ],
   "source": [
    "s1 = {1,2,3}\n",
    "s2 = {12,3,4,5,6,7}\n",
    "\n",
    "s1.union(s2)"
   ]
  },
  {
   "cell_type": "markdown",
   "id": "3f4fa84c-abc8-4199-9ee0-8279ed24f7b4",
   "metadata": {},
   "source": [
    "10. Find the intersection of two sets."
   ]
  },
  {
   "cell_type": "code",
   "execution_count": 5,
   "id": "c8bb9a0e-3ead-4024-a3c5-09465121f12d",
   "metadata": {},
   "outputs": [
    {
     "data": {
      "text/plain": [
       "{3}"
      ]
     },
     "execution_count": 5,
     "metadata": {},
     "output_type": "execute_result"
    }
   ],
   "source": [
    "s2.intersection(s1)"
   ]
  },
  {
   "cell_type": "markdown",
   "id": "7e0bce54-02fb-4a0e-8832-dc87a678614b",
   "metadata": {},
   "source": [
    "11. Find the difference between two sets."
   ]
  },
  {
   "cell_type": "code",
   "execution_count": 10,
   "id": "0f7a051b-d958-4828-bfd1-888a45d3d989",
   "metadata": {},
   "outputs": [
    {
     "name": "stdout",
     "output_type": "stream",
     "text": [
      "{6}\n",
      "{4, 5}\n"
     ]
    }
   ],
   "source": [
    "s1 = {1,2,3,6}\n",
    "s2 = {1,2,3,4,5}\n",
    "\n",
    "print(s1.difference(s2))\n",
    "print(s2.difference(s1))"
   ]
  },
  {
   "cell_type": "markdown",
   "id": "f6bc83ed-d045-4965-9ade-24dbb7ae78cf",
   "metadata": {},
   "source": [
    "12. Check if a set is a subset of another set."
   ]
  },
  {
   "cell_type": "code",
   "execution_count": 14,
   "id": "1f8a488d-9ee5-4528-8151-061626c658a2",
   "metadata": {},
   "outputs": [
    {
     "data": {
      "text/plain": [
       "True"
      ]
     },
     "execution_count": 14,
     "metadata": {},
     "output_type": "execute_result"
    }
   ],
   "source": [
    "s1 = {1,2,3}\n",
    "s2 = {1,2,3,4,5}\n",
    "s1.issubset(s2)"
   ]
  },
  {
   "cell_type": "markdown",
   "id": "b96faf81-ac98-4613-92ce-dc15c5beaadf",
   "metadata": {},
   "source": [
    "13. Check if a set is a superset of another set."
   ]
  },
  {
   "cell_type": "code",
   "execution_count": 16,
   "id": "32e976f5-b63f-4de0-83c1-e723352d1a98",
   "metadata": {},
   "outputs": [
    {
     "data": {
      "text/plain": [
       "True"
      ]
     },
     "execution_count": 16,
     "metadata": {},
     "output_type": "execute_result"
    }
   ],
   "source": [
    "s1 = {1,2,3}\n",
    "s2 = {1,2,3,4,5}\n",
    "s2.issuperset(s1)"
   ]
  },
  {
   "cell_type": "markdown",
   "id": "adcd36c3-b741-407a-8939-88151776ad59",
   "metadata": {},
   "source": [
    "14. Create a set from a list."
   ]
  },
  {
   "cell_type": "code",
   "execution_count": 18,
   "id": "67a6bfe3-40cd-4385-a6ca-8952412a3329",
   "metadata": {},
   "outputs": [
    {
     "data": {
      "text/plain": [
       "{1, 2, 3, 4, 5, 6, 7}"
      ]
     },
     "execution_count": 18,
     "metadata": {},
     "output_type": "execute_result"
    }
   ],
   "source": [
    "list = [1,2,3,4,5,5,6,6,7]\n",
    "\n",
    "s = set(list)\n",
    "s"
   ]
  },
  {
   "cell_type": "markdown",
   "id": "c3273467-e7ce-42ff-87b5-e0b4451cd0a3",
   "metadata": {},
   "source": [
    "15. Convert a set to a list."
   ]
  },
  {
   "cell_type": "code",
   "execution_count": 22,
   "id": "da3065be-bd04-4a1b-8c0b-01d6de75829e",
   "metadata": {},
   "outputs": [
    {
     "data": {
      "text/plain": [
       "[1, 2, 3, 4, 5, 6, 7]"
      ]
     },
     "execution_count": 22,
     "metadata": {},
     "output_type": "execute_result"
    }
   ],
   "source": [
    "s = {1, 2, 3, 4, 5, 6, 7}\n",
    "l = []\n",
    "for i in s:\n",
    "    l.append(i)\n",
    "l   "
   ]
  },
  {
   "cell_type": "markdown",
   "id": "21fb3c01-68b0-4199-bb39-3b01d57c795b",
   "metadata": {},
   "source": [
    "16. Remove a random element from a set."
   ]
  },
  {
   "cell_type": "code",
   "execution_count": 2,
   "id": "fe7c8132-202e-4c1c-842a-92c6c6575f36",
   "metadata": {},
   "outputs": [
    {
     "data": {
      "text/plain": [
       "{1, 2, 3, 5, 6, 7}"
      ]
     },
     "execution_count": 2,
     "metadata": {},
     "output_type": "execute_result"
    }
   ],
   "source": [
    "s = {1, 2, 3, 4, 5, 6, 7}\n",
    "import random\n",
    "random_element = random.choice(list(s))\n",
    "s.remove(random_element)\n",
    "s"
   ]
  },
  {
   "cell_type": "markdown",
   "id": "85d79d5c-2387-4fbd-943a-c5df2b52e773",
   "metadata": {},
   "source": [
    "17. Pop an element from a set."
   ]
  },
  {
   "cell_type": "code",
   "execution_count": 5,
   "id": "1d224dac-d48a-473b-a92a-e4c666132f2e",
   "metadata": {},
   "outputs": [
    {
     "data": {
      "text/plain": [
       "1"
      ]
     },
     "execution_count": 5,
     "metadata": {},
     "output_type": "execute_result"
    }
   ],
   "source": [
    "s = {1, 2, 3, 4, 5, 6, 7}\n",
    "s.pop()"
   ]
  },
  {
   "cell_type": "markdown",
   "id": "24c97e78-932e-4ce5-93bf-11ceadddeda1",
   "metadata": {},
   "source": [
    "18. Check if two sets have no elements in common."
   ]
  },
  {
   "cell_type": "code",
   "execution_count": 7,
   "id": "732114f3-2528-42fd-b0ae-924a56b06bcb",
   "metadata": {},
   "outputs": [
    {
     "name": "stdout",
     "output_type": "stream",
     "text": [
      "No common elements present\n"
     ]
    }
   ],
   "source": [
    "s1 ={3,4}\n",
    "s2 ={1,2,7,8}\n",
    "\n",
    "if not s1.intersection(s2):\n",
    "    print(\"No common elements present\")\n",
    "else:\n",
    "    print(\"common elements present\")"
   ]
  },
  {
   "cell_type": "markdown",
   "id": "bdfc97f1-4988-4e28-a2f0-d61c7abd62fa",
   "metadata": {},
   "source": [
    "19. Find the symmetric difference between two sets."
   ]
  },
  {
   "cell_type": "code",
   "execution_count": 8,
   "id": "f3f63c47-2475-4208-9be6-61e4603cbec7",
   "metadata": {},
   "outputs": [
    {
     "data": {
      "text/plain": [
       "{3, 4, 7, 8}"
      ]
     },
     "execution_count": 8,
     "metadata": {},
     "output_type": "execute_result"
    }
   ],
   "source": [
    "s1 ={1,2,3,4}\n",
    "s2 ={1,2,7,8}\n",
    "s1^s2"
   ]
  },
  {
   "cell_type": "markdown",
   "id": "e8442cec-f618-4866-819e-3050d75887f5",
   "metadata": {},
   "source": [
    "20. Update a set with elements from another set."
   ]
  },
  {
   "cell_type": "code",
   "execution_count": 9,
   "id": "11db5b10-9632-412f-b2f6-1118eecd60e8",
   "metadata": {},
   "outputs": [
    {
     "data": {
      "text/plain": [
       "{1, 2, 3, 4, 7, 8}"
      ]
     },
     "execution_count": 9,
     "metadata": {},
     "output_type": "execute_result"
    }
   ],
   "source": [
    "s1 ={1,2,3,4}\n",
    "s2 ={1,2,7,8}\n",
    "\n",
    "s1.update(s2)\n",
    "s1"
   ]
  },
  {
   "cell_type": "markdown",
   "id": "5caa1910-d51a-4852-a0eb-fcc119311bf9",
   "metadata": {},
   "source": [
    "21. Create a set of the first 5 prime numbers."
   ]
  },
  {
   "cell_type": "code",
   "execution_count": 2,
   "id": "ae823a61-b46c-49af-aef6-5d18241bbc0f",
   "metadata": {},
   "outputs": [
    {
     "data": {
      "text/plain": [
       "{2, 3, 5, 7, 11}"
      ]
     },
     "execution_count": 2,
     "metadata": {},
     "output_type": "execute_result"
    }
   ],
   "source": [
    "import sympy\n",
    "\n",
    "a = sympy.primerange(1,12\n",
    "                    )\n",
    "set(a)"
   ]
  },
  {
   "cell_type": "markdown",
   "id": "274247e2-ea24-4ba6-a0f2-e28d2915b559",
   "metadata": {},
   "source": [
    "22. Check if two sets are identical."
   ]
  },
  {
   "cell_type": "code",
   "execution_count": 5,
   "id": "cf270b90-407b-4c6a-9e0d-e375f7ac0025",
   "metadata": {},
   "outputs": [
    {
     "name": "stdout",
     "output_type": "stream",
     "text": [
      "not identical\n"
     ]
    }
   ],
   "source": [
    "s1 ={1,2,3,4}\n",
    "s2 ={1,2,7,8}\n",
    "\n",
    "if s1 == s2:\n",
    "    print(\"identical\")\n",
    "else:\n",
    "    print(\"not identical\")\n"
   ]
  },
  {
   "cell_type": "markdown",
   "id": "bd8c20a7-e670-47dc-a094-b50d4ab41610",
   "metadata": {},
   "source": [
    "23. Create a frozen set."
   ]
  },
  {
   "cell_type": "code",
   "execution_count": 8,
   "id": "c853f004-be14-4fb0-8882-16028ed18d82",
   "metadata": {},
   "outputs": [
    {
     "data": {
      "text/plain": [
       "frozenset({1, 2, 3, 4})"
      ]
     },
     "execution_count": 8,
     "metadata": {},
     "output_type": "execute_result"
    }
   ],
   "source": [
    "s1 ={1,2,3,4}\n",
    "\n",
    "FS = frozenset(s1)\n",
    "FS"
   ]
  },
  {
   "cell_type": "markdown",
   "id": "04793dae-0415-4ed7-8ed6-4bc06cab8908",
   "metadata": {},
   "source": [
    "24. Check if a set is disjoint with another set."
   ]
  },
  {
   "cell_type": "code",
   "execution_count": 9,
   "id": "bbcd93ef-e0df-4604-a593-754d5ac7eb11",
   "metadata": {},
   "outputs": [
    {
     "data": {
      "text/plain": [
       "False"
      ]
     },
     "execution_count": 9,
     "metadata": {},
     "output_type": "execute_result"
    }
   ],
   "source": [
    "s1 ={1,2,3,4}\n",
    "s2 ={1,2,7,8}\n",
    "\n",
    "s1.isdisjoint(s2)"
   ]
  },
  {
   "cell_type": "markdown",
   "id": "1185f3ec-0c16-4175-9d4c-fab9a33dd0fd",
   "metadata": {},
   "source": [
    "25. Create a set of squares of numbers from 1 to 5."
   ]
  },
  {
   "cell_type": "code",
   "execution_count": 1,
   "id": "8ba7625e-fc2d-4458-923d-01f7bc15ff48",
   "metadata": {},
   "outputs": [
    {
     "data": {
      "text/plain": [
       "[1, 4, 9, 16]"
      ]
     },
     "execution_count": 1,
     "metadata": {},
     "output_type": "execute_result"
    }
   ],
   "source": [
    "s = {1,2,3,4}\n",
    "sq = [x**2 for x in s]\n",
    "sq"
   ]
  },
  {
   "cell_type": "markdown",
   "id": "a7f6d84d-fc95-448b-8812-70b90f13a8c2",
   "metadata": {},
   "source": [
    "26. Filter out all even numbers from a set."
   ]
  },
  {
   "cell_type": "code",
   "execution_count": 2,
   "id": "5ef3c746-59e2-49fa-a1ec-74a96c7f7702",
   "metadata": {},
   "outputs": [
    {
     "data": {
      "text/plain": [
       "[2, 4]"
      ]
     },
     "execution_count": 2,
     "metadata": {},
     "output_type": "execute_result"
    }
   ],
   "source": [
    "s = {1,2,3,4}\n",
    "\n",
    "even = [x for x in s if x % 2 == 0]\n",
    "even"
   ]
  },
  {
   "cell_type": "markdown",
   "id": "939b411b-936d-465f-933f-94d3aa691f53",
   "metadata": {},
   "source": [
    "27. Multiply all elements in a set by 2."
   ]
  },
  {
   "cell_type": "code",
   "execution_count": 3,
   "id": "be440680-033e-4619-8ec5-3f83be6f7b16",
   "metadata": {},
   "outputs": [
    {
     "data": {
      "text/plain": [
       "[2, 4, 6, 8]"
      ]
     },
     "execution_count": 3,
     "metadata": {},
     "output_type": "execute_result"
    }
   ],
   "source": [
    "s = {1,2,3,4}\n",
    "\n",
    "mul = [x*2 for x in s]\n",
    "mul"
   ]
  },
  {
   "cell_type": "markdown",
   "id": "de718873-a97d-4485-a018-6a624c84f336",
   "metadata": {},
   "source": [
    "28. Create a set of random numbers."
   ]
  },
  {
   "cell_type": "code",
   "execution_count": 9,
   "id": "aff258af-6e17-4714-9d18-dc7c420e19b2",
   "metadata": {},
   "outputs": [
    {
     "data": {
      "text/plain": [
       "{15, 29, 52, 86, 89}"
      ]
     },
     "execution_count": 9,
     "metadata": {},
     "output_type": "execute_result"
    }
   ],
   "source": [
    "import random\n",
    "a = set()\n",
    "for i in range(5):\n",
    "    rand_num = random.randint(1,100)\n",
    "    a.add(rand_num)\n",
    "a"
   ]
  },
  {
   "cell_type": "markdown",
   "id": "b5e6eef3-5146-4e0b-aac5-c495b81ebc58",
   "metadata": {},
   "source": [
    "29. Check if a set is empty."
   ]
  },
  {
   "cell_type": "code",
   "execution_count": 15,
   "id": "9121d485-7857-4c9c-967a-3200ae71e210",
   "metadata": {},
   "outputs": [
    {
     "name": "stdout",
     "output_type": "stream",
     "text": [
      "empty\n"
     ]
    }
   ],
   "source": [
    "set0 = set()\n",
    "\n",
    "if not set0:\n",
    "    print(\"empty\")\n",
    "else:\n",
    "    print(\"Not Empty\")"
   ]
  },
  {
   "cell_type": "markdown",
   "id": "69ffa038-f8fb-41ad-83cf-5e39edb29053",
   "metadata": {},
   "source": [
    "30. Create a nested set (hint: use frozenset)."
   ]
  },
  {
   "cell_type": "code",
   "execution_count": 18,
   "id": "eb2d267d-6cf6-425f-81a0-6960313247ce",
   "metadata": {},
   "outputs": [
    {
     "data": {
      "text/plain": [
       "{1, 2, 3, 4, frozenset({7, 8, 9})}"
      ]
     },
     "execution_count": 18,
     "metadata": {},
     "output_type": "execute_result"
    }
   ],
   "source": [
    "s = {1,2,3,4,frozenset({7,8,9})}\n",
    "s"
   ]
  },
  {
   "cell_type": "markdown",
   "id": "5e6ff52a-628f-47b0-b8c4-54a0596d8444",
   "metadata": {},
   "source": [
    "31. Remove an element from a set using the discard method."
   ]
  },
  {
   "cell_type": "code",
   "execution_count": 21,
   "id": "e4cbffff-3d57-4efe-9cd2-91fb659792e6",
   "metadata": {},
   "outputs": [
    {
     "data": {
      "text/plain": [
       "{1, 2, 4}"
      ]
     },
     "execution_count": 21,
     "metadata": {},
     "output_type": "execute_result"
    }
   ],
   "source": [
    "s = {1,2,3,4}\n",
    "\n",
    "s.discard(3)\n",
    "s"
   ]
  },
  {
   "cell_type": "markdown",
   "id": "899ff568-513f-4a28-aa32-df0ee7cd4ec2",
   "metadata": {},
   "source": [
    "32. Compare two sets."
   ]
  },
  {
   "cell_type": "code",
   "execution_count": 26,
   "id": "0141d371-338b-48ed-80bf-521a5c530e67",
   "metadata": {},
   "outputs": [
    {
     "name": "stdout",
     "output_type": "stream",
     "text": [
      "False\n",
      "False\n",
      "{1, 2, 3, 4, 5, 6, 7, 8}\n",
      "{1, 2, 3, 4}\n",
      "set()\n",
      "True\n",
      "{1, 2, 3, 4, 5, 6, 7, 8}\n"
     ]
    }
   ],
   "source": [
    "s1 = {1,2,3,4}\n",
    "s2 = {5,6,7,8}\n",
    "\n",
    "print(s1.issubset(s2))\n",
    "print(s1.issuperset(s2))\n",
    "print(s1.union(s2))\n",
    "print(s1.difference(s2))\n",
    "print(s1.intersection(s2))\n",
    "print(s1.isdisjoint(s2))\n",
    "print(s1.symmetric_difference(s2))\n",
    "    "
   ]
  },
  {
   "cell_type": "markdown",
   "id": "a8a684c7-7fc1-43c3-999a-951ca351a0b6",
   "metadata": {},
   "source": [
    "33. Create a set from a string."
   ]
  },
  {
   "cell_type": "code",
   "execution_count": 27,
   "id": "66810505-bab1-4989-a473-e2d414631537",
   "metadata": {},
   "outputs": [
    {
     "data": {
      "text/plain": [
       "{'a', 'i', 'k', 'm', 'r', 's', 'u'}"
      ]
     },
     "execution_count": 27,
     "metadata": {},
     "output_type": "execute_result"
    }
   ],
   "source": [
    "name = 'saikumar'\n",
    "set(name)"
   ]
  },
  {
   "cell_type": "markdown",
   "id": "2a10bbc7-8ed7-41aa-9b5a-9c4fe30a1a5e",
   "metadata": {},
   "source": [
    "34. Convert a set of strings to a set of integers."
   ]
  },
  {
   "cell_type": "code",
   "execution_count": 28,
   "id": "367a9ac3-55c4-43cd-9371-778a1bebb3a9",
   "metadata": {},
   "outputs": [
    {
     "data": {
      "text/plain": [
       "{123, 456, 789}"
      ]
     },
     "execution_count": 28,
     "metadata": {},
     "output_type": "execute_result"
    }
   ],
   "source": [
    "string_set = {\"123\", \"456\", \"789\"}\n",
    "\n",
    "int_set = {int(x) for x in string_set}\n",
    "\n",
    "int_set"
   ]
  },
  {
   "cell_type": "markdown",
   "id": "c36d115f-45ef-4113-9d46-8695450dd2a1",
   "metadata": {},
   "source": [
    "35. Convert a set of integers to a set of strings."
   ]
  },
  {
   "cell_type": "code",
   "execution_count": 29,
   "id": "021217df-45e1-4d84-aa07-1521a4a45f85",
   "metadata": {},
   "outputs": [
    {
     "data": {
      "text/plain": [
       "{'123', '456', '789'}"
      ]
     },
     "execution_count": 29,
     "metadata": {},
     "output_type": "execute_result"
    }
   ],
   "source": [
    "int_set = {123, 456, 789}\n",
    "str_set = {str(x) for x in int_set}\n",
    "str_set"
   ]
  },
  {
   "cell_type": "markdown",
   "id": "8048a729-3396-4ceb-a34f-51488a838928",
   "metadata": {},
   "source": [
    "36. Create a set from a tuple."
   ]
  },
  {
   "cell_type": "code",
   "execution_count": 30,
   "id": "247ed1a1-5ead-404e-b45f-52fd45de1ab5",
   "metadata": {},
   "outputs": [
    {
     "data": {
      "text/plain": [
       "{1, 2, 3, 4, 5}"
      ]
     },
     "execution_count": 30,
     "metadata": {},
     "output_type": "execute_result"
    }
   ],
   "source": [
    "t = (1,2,3,4,5)\n",
    "set(t)"
   ]
  },
  {
   "cell_type": "markdown",
   "id": "a483b897-c189-45e3-b4e2-21236aee3f33",
   "metadata": {},
   "source": [
    "37. Convert a set to a tuple."
   ]
  },
  {
   "cell_type": "code",
   "execution_count": 31,
   "id": "b5cdf50a-5fc4-4e16-a379-ef10d97421d5",
   "metadata": {},
   "outputs": [
    {
     "data": {
      "text/plain": [
       "(1, 2, 3, 4)"
      ]
     },
     "execution_count": 31,
     "metadata": {},
     "output_type": "execute_result"
    }
   ],
   "source": [
    "s = {1,2,3,4}\n",
    "tuple(s)"
   ]
  },
  {
   "cell_type": "markdown",
   "id": "ff3f6c45-c221-40fd-8ce8-e285299a66ed",
   "metadata": {},
   "source": [
    "38. Find the maximum value in a set."
   ]
  },
  {
   "cell_type": "code",
   "execution_count": 1,
   "id": "028a9829-ab62-46c9-9ecb-870ccfc12109",
   "metadata": {},
   "outputs": [
    {
     "data": {
      "text/plain": [
       "4"
      ]
     },
     "execution_count": 1,
     "metadata": {},
     "output_type": "execute_result"
    }
   ],
   "source": [
    "s = {1,2,3,4}\n",
    "max(s)"
   ]
  },
  {
   "cell_type": "markdown",
   "id": "67b87261-a762-4bfb-b4ae-26295c4dddc5",
   "metadata": {},
   "source": [
    "39. Find the minimum value in a set."
   ]
  },
  {
   "cell_type": "code",
   "execution_count": 2,
   "id": "ea407860-d250-463a-a41f-f0f4f6d866cb",
   "metadata": {},
   "outputs": [
    {
     "data": {
      "text/plain": [
       "1"
      ]
     },
     "execution_count": 2,
     "metadata": {},
     "output_type": "execute_result"
    }
   ],
   "source": [
    "s = {1,2,3,4}\n",
    "min(s)"
   ]
  },
  {
   "cell_type": "markdown",
   "id": "dedd5fbd-1526-4e1f-ad81-cda0434ed7ac",
   "metadata": {},
   "source": [
    "40. Create a set from user input."
   ]
  },
  {
   "cell_type": "code",
   "execution_count": 1,
   "id": "6735e2c7-901a-42e9-a94c-e9b99ff1ca49",
   "metadata": {},
   "outputs": [
    {
     "name": "stdin",
     "output_type": "stream",
     "text": [
      "Enter the values: 1,2,3\n",
      "Enter the values: \n"
     ]
    },
    {
     "data": {
      "text/plain": [
       "{'1,2,3'}"
      ]
     },
     "execution_count": 1,
     "metadata": {},
     "output_type": "execute_result"
    }
   ],
   "source": [
    "user_set = set()\n",
    "\n",
    "while True:\n",
    "    inp = input(\"Enter the values:\")\n",
    "    \n",
    "    if not inp:\n",
    "        break\n",
    "    \n",
    "    user_set.add(inp)\n",
    "user_set"
   ]
  },
  {
   "cell_type": "markdown",
   "id": "93823e0c-7b7c-406a-ba72-e85cfa4a7621",
   "metadata": {},
   "source": [
    "41. Check if the intersection of two sets is empty."
   ]
  },
  {
   "cell_type": "code",
   "execution_count": 2,
   "id": "11d55bd9-2124-4e51-a933-7f74b9b97e1c",
   "metadata": {},
   "outputs": [
    {
     "name": "stdout",
     "output_type": "stream",
     "text": [
      "Empty\n"
     ]
    }
   ],
   "source": [
    "s1 = {1,2,3}\n",
    "\n",
    "s2 = {5,6,7}\n",
    "\n",
    "if not s1.intersection(s2):\n",
    "    print(\"Empty\")\n",
    "else:\n",
    "    print(\"Not Empty\")"
   ]
  },
  {
   "cell_type": "markdown",
   "id": "e1c9f3e3-7568-440c-b9fa-c45834efeb2d",
   "metadata": {},
   "source": [
    "42. Create a set of the first 5 Fibonacci numbers."
   ]
  },
  {
   "cell_type": "code",
   "execution_count": 19,
   "id": "12bbe1f6-f882-4c89-ba9a-e8f87ff21025",
   "metadata": {},
   "outputs": [
    {
     "data": {
      "text/plain": [
       "{0, 1, 2, 3, 5}"
      ]
     },
     "execution_count": 19,
     "metadata": {},
     "output_type": "execute_result"
    }
   ],
   "source": [
    "x = 0\n",
    "y = 1\n",
    "Fib = set()\n",
    "Fib.add(x)\n",
    "Fib.add(y)\n",
    "\n",
    "for i in range(4):\n",
    "    z = x + y\n",
    "    x = y\n",
    "    y = z\n",
    "    Fib.add(z)\n",
    "Fib"
   ]
  },
  {
   "cell_type": "markdown",
   "id": "93f19f05-ba4a-4e4c-a037-9e80aaf17990",
   "metadata": {},
   "source": [
    "43. Remove duplicates from a list using sets."
   ]
  },
  {
   "cell_type": "code",
   "execution_count": 21,
   "id": "5efd8d82-c04b-4a0a-9047-3f2047beed87",
   "metadata": {},
   "outputs": [
    {
     "data": {
      "text/plain": [
       "[1, 2, 3, 4, 5, 6, 7]"
      ]
     },
     "execution_count": 21,
     "metadata": {},
     "output_type": "execute_result"
    }
   ],
   "source": [
    "l = [1,1,1,2,2,2,3,3,4,4,5,6,7,4,5,6,7]\n",
    "\n",
    "s = set(l)\n",
    "\n",
    "l = list(s)\n",
    "\n",
    "l"
   ]
  },
  {
   "cell_type": "markdown",
   "id": "ea575d7d-f1ed-498f-bc8b-736db511de46",
   "metadata": {},
   "source": [
    "44. Check if two sets have the same elements, regardless of their count."
   ]
  },
  {
   "cell_type": "code",
   "execution_count": 28,
   "id": "3ceaf8da-3ee2-4a53-8bd0-9b72820d7557",
   "metadata": {},
   "outputs": [
    {
     "name": "stdout",
     "output_type": "stream",
     "text": [
      "have common elements\n"
     ]
    }
   ],
   "source": [
    "s1 = {1,2,3,2,1}\n",
    "s2 = {1,2,3}\n",
    "\n",
    "l1 = sorted(list(s1))\n",
    "l2 = sorted(list(s2))\n",
    "\n",
    "if l1 == l2:\n",
    "    print(\"have common elements\")\n",
    "else:\n",
    "    print(\"don't have common elements\")\n"
   ]
  },
  {
   "cell_type": "markdown",
   "id": "74fdf085-0774-454f-913f-d6d05dacc4d2",
   "metadata": {},
   "source": [
    "45. Create a set of the first `n` powers of 2."
   ]
  },
  {
   "cell_type": "code",
   "execution_count": 27,
   "id": "f8d723a4-10e1-4b38-974a-6070add66ab3",
   "metadata": {},
   "outputs": [
    {
     "data": {
      "text/plain": [
       "[1, 2, 4, 8]"
      ]
     },
     "execution_count": 27,
     "metadata": {},
     "output_type": "execute_result"
    }
   ],
   "source": [
    "n = 4\n",
    "\n",
    "powers = [2**i for i in range(n)]\n",
    "powers"
   ]
  },
  {
   "cell_type": "markdown",
   "id": "33428de1-1761-4589-8839-b181b42aa423",
   "metadata": {},
   "source": [
    "46. Find the common elements between a set and a list."
   ]
  },
  {
   "cell_type": "code",
   "execution_count": 29,
   "id": "fcb80402-e11a-438f-8d0f-28e5180b777f",
   "metadata": {},
   "outputs": [
    {
     "data": {
      "text/plain": [
       "{1, 2, 3, 4, 5}"
      ]
     },
     "execution_count": 29,
     "metadata": {},
     "output_type": "execute_result"
    }
   ],
   "source": [
    "s = {1,2,3,4,5,6}\n",
    "\n",
    "l = [1,2,3,4,5]\n",
    "\n",
    "s.intersection(set(l))"
   ]
  },
  {
   "cell_type": "markdown",
   "id": "80cfa95e-d377-4519-94d7-38cb0a0d8180",
   "metadata": {},
   "source": [
    "47. Create a set of the first `n` triangular numbers."
   ]
  },
  {
   "cell_type": "code",
   "execution_count": 34,
   "id": "df13f3af-716b-49c1-8da7-63063afe756b",
   "metadata": {},
   "outputs": [
    {
     "data": {
      "text/plain": [
       "[1, 3, 6, 10, 15]"
      ]
     },
     "execution_count": 34,
     "metadata": {},
     "output_type": "execute_result"
    }
   ],
   "source": [
    "n = 5\n",
    "[i*(i+1) // 2 for i in range(1,n+1)]"
   ]
  },
  {
   "cell_type": "markdown",
   "id": "7bb5a15f-bc4e-4934-ba15-87a1ede09d3e",
   "metadata": {},
   "source": [
    "48. Check if a set contains another set as a subset."
   ]
  },
  {
   "cell_type": "code",
   "execution_count": 35,
   "id": "23f98710-9c0a-4c15-af2d-5a98d3baffb4",
   "metadata": {},
   "outputs": [
    {
     "data": {
      "text/plain": [
       "True"
      ]
     },
     "execution_count": 35,
     "metadata": {},
     "output_type": "execute_result"
    }
   ],
   "source": [
    "s1 = {1,2,3}\n",
    "s2 ={1,2}\n",
    "\n",
    "s2.issubset(s1)"
   ]
  },
  {
   "cell_type": "markdown",
   "id": "4dfaccfe-8ce0-441a-bdb5-cc7758c0b09b",
   "metadata": {},
   "source": [
    "49. Create a set of alternating 1s and 0s of length `n`."
   ]
  },
  {
   "cell_type": "code",
   "execution_count": 41,
   "id": "5ce79e88-1256-42bb-8699-2aa3d7977a46",
   "metadata": {},
   "outputs": [
    {
     "data": {
      "text/plain": [
       "{0, 1}"
      ]
     },
     "execution_count": 41,
     "metadata": {},
     "output_type": "execute_result"
    }
   ],
   "source": [
    "n = 6\n",
    "s = set()\n",
    "for i in range(1,n+1):\n",
    "    if i % 2 != 0:\n",
    "        s.add(0)\n",
    "    else:\n",
    "        s.add(1)\n",
    "s"
   ]
  },
  {
   "cell_type": "markdown",
   "id": "0aa6e616-2338-462a-a416-7901224f833b",
   "metadata": {},
   "source": [
    "50. Merge multiple sets into one."
   ]
  },
  {
   "cell_type": "code",
   "execution_count": 44,
   "id": "1af73dea-3375-4d8c-ab1d-3964cf5e7e26",
   "metadata": {},
   "outputs": [
    {
     "data": {
      "text/plain": [
       "{1, 2, 3, 4, 5, 6, 8, 9}"
      ]
     },
     "execution_count": 44,
     "metadata": {},
     "output_type": "execute_result"
    }
   ],
   "source": [
    "s1 ={1,2,3}\n",
    "s2={4,5,6}\n",
    "s3={9,8}\n",
    "\n",
    "merged_set = s1.union(s2,s3)\n",
    "merged_set"
   ]
  },
  {
   "cell_type": "code",
   "execution_count": null,
   "id": "d571fa1e-f85c-4559-a644-d43da58e12ed",
   "metadata": {},
   "outputs": [],
   "source": []
  }
 ],
 "metadata": {
  "kernelspec": {
   "display_name": "Python 3 (ipykernel)",
   "language": "python",
   "name": "python3"
  },
  "language_info": {
   "codemirror_mode": {
    "name": "ipython",
    "version": 3
   },
   "file_extension": ".py",
   "mimetype": "text/x-python",
   "name": "python",
   "nbconvert_exporter": "python",
   "pygments_lexer": "ipython3",
   "version": "3.10.8"
  }
 },
 "nbformat": 4,
 "nbformat_minor": 5
}
